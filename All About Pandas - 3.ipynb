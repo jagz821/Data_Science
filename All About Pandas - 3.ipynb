{
 "cells": [
  {
   "cell_type": "markdown",
   "metadata": {},
   "source": [
    "### Date & Time \n",
    "When we work on the real world data, there might be chances we come across date-column and we can draw useful insights from data while working on Date-Time and Pandas have extensive capabilities to work on dates."
   ]
  },
  {
   "cell_type": "markdown",
   "metadata": {},
   "source": [
    "* <a href=\"https://data.world/socialmediadata/twitter-us-airline-sentiment\">Link for Data set </a>\n",
    "\n",
    "* <a href=\"https://towardsdatascience.com/working-with-datetime-in-pandas-dataframe-663f7af6c587\">Refrence </a>"
   ]
  },
  {
   "cell_type": "code",
   "execution_count": 90,
   "metadata": {},
   "outputs": [],
   "source": [
    "import numpy as np\n",
    "import pandas as pd\n",
    "import datetime"
   ]
  },
  {
   "cell_type": "code",
   "execution_count": 91,
   "metadata": {},
   "outputs": [
    {
     "data": {
      "text/html": [
       "<div>\n",
       "<style scoped>\n",
       "    .dataframe tbody tr th:only-of-type {\n",
       "        vertical-align: middle;\n",
       "    }\n",
       "\n",
       "    .dataframe tbody tr th {\n",
       "        vertical-align: top;\n",
       "    }\n",
       "\n",
       "    .dataframe thead th {\n",
       "        text-align: right;\n",
       "    }\n",
       "</style>\n",
       "<table border=\"1\" class=\"dataframe\">\n",
       "  <thead>\n",
       "    <tr style=\"text-align: right;\">\n",
       "      <th></th>\n",
       "      <th>_unit_id</th>\n",
       "      <th>_golden</th>\n",
       "      <th>_unit_state</th>\n",
       "      <th>_trusted_judgments</th>\n",
       "      <th>_last_judgment_at</th>\n",
       "      <th>airline_sentiment</th>\n",
       "      <th>airline_sentiment:confidence</th>\n",
       "      <th>negativereason</th>\n",
       "      <th>negativereason:confidence</th>\n",
       "      <th>airline</th>\n",
       "      <th>airline_sentiment_gold</th>\n",
       "      <th>name</th>\n",
       "      <th>negativereason_gold</th>\n",
       "      <th>retweet_count</th>\n",
       "      <th>text</th>\n",
       "      <th>tweet_coord</th>\n",
       "      <th>tweet_created</th>\n",
       "      <th>tweet_id</th>\n",
       "      <th>tweet_location</th>\n",
       "      <th>user_timezone</th>\n",
       "    </tr>\n",
       "  </thead>\n",
       "  <tbody>\n",
       "    <tr>\n",
       "      <th>0</th>\n",
       "      <td>681448150</td>\n",
       "      <td>False</td>\n",
       "      <td>finalized</td>\n",
       "      <td>3</td>\n",
       "      <td>2/25/15 5:24</td>\n",
       "      <td>neutral</td>\n",
       "      <td>1.0000</td>\n",
       "      <td>NaN</td>\n",
       "      <td>NaN</td>\n",
       "      <td>Virgin America</td>\n",
       "      <td>NaN</td>\n",
       "      <td>cairdin</td>\n",
       "      <td>NaN</td>\n",
       "      <td>0</td>\n",
       "      <td>@VirginAmerica What @dhepburn said.</td>\n",
       "      <td>NaN</td>\n",
       "      <td>2/24/15 11:35</td>\n",
       "      <td>5.703060e+17</td>\n",
       "      <td>NaN</td>\n",
       "      <td>Eastern Time (US &amp; Canada)</td>\n",
       "    </tr>\n",
       "    <tr>\n",
       "      <th>1</th>\n",
       "      <td>681448153</td>\n",
       "      <td>False</td>\n",
       "      <td>finalized</td>\n",
       "      <td>3</td>\n",
       "      <td>2/25/15 1:53</td>\n",
       "      <td>positive</td>\n",
       "      <td>0.3486</td>\n",
       "      <td>NaN</td>\n",
       "      <td>0.0000</td>\n",
       "      <td>Virgin America</td>\n",
       "      <td>NaN</td>\n",
       "      <td>jnardino</td>\n",
       "      <td>NaN</td>\n",
       "      <td>0</td>\n",
       "      <td>@VirginAmerica plus you've added commercials t...</td>\n",
       "      <td>NaN</td>\n",
       "      <td>2/24/15 11:15</td>\n",
       "      <td>5.703010e+17</td>\n",
       "      <td>NaN</td>\n",
       "      <td>Pacific Time (US &amp; Canada)</td>\n",
       "    </tr>\n",
       "    <tr>\n",
       "      <th>2</th>\n",
       "      <td>681448156</td>\n",
       "      <td>False</td>\n",
       "      <td>finalized</td>\n",
       "      <td>3</td>\n",
       "      <td>2/25/15 10:01</td>\n",
       "      <td>neutral</td>\n",
       "      <td>0.6837</td>\n",
       "      <td>NaN</td>\n",
       "      <td>NaN</td>\n",
       "      <td>Virgin America</td>\n",
       "      <td>NaN</td>\n",
       "      <td>yvonnalynn</td>\n",
       "      <td>NaN</td>\n",
       "      <td>0</td>\n",
       "      <td>@VirginAmerica I didn't today... Must mean I n...</td>\n",
       "      <td>NaN</td>\n",
       "      <td>2/24/15 11:15</td>\n",
       "      <td>5.703010e+17</td>\n",
       "      <td>Lets Play</td>\n",
       "      <td>Central Time (US &amp; Canada)</td>\n",
       "    </tr>\n",
       "    <tr>\n",
       "      <th>3</th>\n",
       "      <td>681448158</td>\n",
       "      <td>False</td>\n",
       "      <td>finalized</td>\n",
       "      <td>3</td>\n",
       "      <td>2/25/15 3:05</td>\n",
       "      <td>negative</td>\n",
       "      <td>1.0000</td>\n",
       "      <td>Bad Flight</td>\n",
       "      <td>0.7033</td>\n",
       "      <td>Virgin America</td>\n",
       "      <td>NaN</td>\n",
       "      <td>jnardino</td>\n",
       "      <td>NaN</td>\n",
       "      <td>0</td>\n",
       "      <td>@VirginAmerica it's really aggressive to blast...</td>\n",
       "      <td>NaN</td>\n",
       "      <td>2/24/15 11:15</td>\n",
       "      <td>5.703010e+17</td>\n",
       "      <td>NaN</td>\n",
       "      <td>Pacific Time (US &amp; Canada)</td>\n",
       "    </tr>\n",
       "    <tr>\n",
       "      <th>4</th>\n",
       "      <td>681448159</td>\n",
       "      <td>False</td>\n",
       "      <td>finalized</td>\n",
       "      <td>3</td>\n",
       "      <td>2/25/15 5:50</td>\n",
       "      <td>negative</td>\n",
       "      <td>1.0000</td>\n",
       "      <td>Can't Tell</td>\n",
       "      <td>1.0000</td>\n",
       "      <td>Virgin America</td>\n",
       "      <td>NaN</td>\n",
       "      <td>jnardino</td>\n",
       "      <td>NaN</td>\n",
       "      <td>0</td>\n",
       "      <td>@VirginAmerica and it's a really big bad thing...</td>\n",
       "      <td>NaN</td>\n",
       "      <td>2/24/15 11:14</td>\n",
       "      <td>5.703010e+17</td>\n",
       "      <td>NaN</td>\n",
       "      <td>Pacific Time (US &amp; Canada)</td>\n",
       "    </tr>\n",
       "    <tr>\n",
       "      <th>...</th>\n",
       "      <td>...</td>\n",
       "      <td>...</td>\n",
       "      <td>...</td>\n",
       "      <td>...</td>\n",
       "      <td>...</td>\n",
       "      <td>...</td>\n",
       "      <td>...</td>\n",
       "      <td>...</td>\n",
       "      <td>...</td>\n",
       "      <td>...</td>\n",
       "      <td>...</td>\n",
       "      <td>...</td>\n",
       "      <td>...</td>\n",
       "      <td>...</td>\n",
       "      <td>...</td>\n",
       "      <td>...</td>\n",
       "      <td>...</td>\n",
       "      <td>...</td>\n",
       "      <td>...</td>\n",
       "      <td>...</td>\n",
       "    </tr>\n",
       "    <tr>\n",
       "      <th>14635</th>\n",
       "      <td>681679794</td>\n",
       "      <td>False</td>\n",
       "      <td>finalized</td>\n",
       "      <td>3</td>\n",
       "      <td>2/25/15 19:46</td>\n",
       "      <td>positive</td>\n",
       "      <td>0.3487</td>\n",
       "      <td>NaN</td>\n",
       "      <td>0.0000</td>\n",
       "      <td>American</td>\n",
       "      <td>NaN</td>\n",
       "      <td>KristenReenders</td>\n",
       "      <td>NaN</td>\n",
       "      <td>0</td>\n",
       "      <td>@AmericanAir thank you we got on a different f...</td>\n",
       "      <td>NaN</td>\n",
       "      <td>2/22/15 12:01</td>\n",
       "      <td>5.695880e+17</td>\n",
       "      <td>NaN</td>\n",
       "      <td>NaN</td>\n",
       "    </tr>\n",
       "    <tr>\n",
       "      <th>14636</th>\n",
       "      <td>681679795</td>\n",
       "      <td>False</td>\n",
       "      <td>finalized</td>\n",
       "      <td>3</td>\n",
       "      <td>2/25/15 19:14</td>\n",
       "      <td>negative</td>\n",
       "      <td>1.0000</td>\n",
       "      <td>Customer Service Issue</td>\n",
       "      <td>1.0000</td>\n",
       "      <td>American</td>\n",
       "      <td>NaN</td>\n",
       "      <td>itsropes</td>\n",
       "      <td>NaN</td>\n",
       "      <td>0</td>\n",
       "      <td>@AmericanAir leaving over 20 minutes Late Flig...</td>\n",
       "      <td>NaN</td>\n",
       "      <td>2/22/15 11:59</td>\n",
       "      <td>5.695870e+17</td>\n",
       "      <td>Texas</td>\n",
       "      <td>NaN</td>\n",
       "    </tr>\n",
       "    <tr>\n",
       "      <th>14637</th>\n",
       "      <td>681679796</td>\n",
       "      <td>False</td>\n",
       "      <td>finalized</td>\n",
       "      <td>3</td>\n",
       "      <td>2/25/15 19:04</td>\n",
       "      <td>neutral</td>\n",
       "      <td>1.0000</td>\n",
       "      <td>NaN</td>\n",
       "      <td>NaN</td>\n",
       "      <td>American</td>\n",
       "      <td>NaN</td>\n",
       "      <td>sanyabun</td>\n",
       "      <td>NaN</td>\n",
       "      <td>0</td>\n",
       "      <td>@AmericanAir Please bring American Airlines to...</td>\n",
       "      <td>NaN</td>\n",
       "      <td>2/22/15 11:59</td>\n",
       "      <td>5.695870e+17</td>\n",
       "      <td>Nigeria,lagos</td>\n",
       "      <td>NaN</td>\n",
       "    </tr>\n",
       "    <tr>\n",
       "      <th>14638</th>\n",
       "      <td>681679797</td>\n",
       "      <td>False</td>\n",
       "      <td>finalized</td>\n",
       "      <td>3</td>\n",
       "      <td>2/25/15 18:59</td>\n",
       "      <td>negative</td>\n",
       "      <td>1.0000</td>\n",
       "      <td>Customer Service Issue</td>\n",
       "      <td>0.6659</td>\n",
       "      <td>American</td>\n",
       "      <td>NaN</td>\n",
       "      <td>SraJackson</td>\n",
       "      <td>NaN</td>\n",
       "      <td>0</td>\n",
       "      <td>@AmericanAir you have my money, you change my ...</td>\n",
       "      <td>NaN</td>\n",
       "      <td>2/22/15 11:59</td>\n",
       "      <td>5.695870e+17</td>\n",
       "      <td>New Jersey</td>\n",
       "      <td>Eastern Time (US &amp; Canada)</td>\n",
       "    </tr>\n",
       "    <tr>\n",
       "      <th>14639</th>\n",
       "      <td>681679798</td>\n",
       "      <td>False</td>\n",
       "      <td>finalized</td>\n",
       "      <td>3</td>\n",
       "      <td>2/25/15 19:06</td>\n",
       "      <td>neutral</td>\n",
       "      <td>0.6771</td>\n",
       "      <td>NaN</td>\n",
       "      <td>0.0000</td>\n",
       "      <td>American</td>\n",
       "      <td>NaN</td>\n",
       "      <td>daviddtwu</td>\n",
       "      <td>NaN</td>\n",
       "      <td>0</td>\n",
       "      <td>@AmericanAir we have 8 ppl so we need 2 know h...</td>\n",
       "      <td>NaN</td>\n",
       "      <td>2/22/15 11:58</td>\n",
       "      <td>5.695870e+17</td>\n",
       "      <td>dallas, TX</td>\n",
       "      <td>NaN</td>\n",
       "    </tr>\n",
       "  </tbody>\n",
       "</table>\n",
       "<p>14640 rows × 20 columns</p>\n",
       "</div>"
      ],
      "text/plain": [
       "        _unit_id  _golden _unit_state  _trusted_judgments _last_judgment_at  \\\n",
       "0      681448150    False   finalized                   3      2/25/15 5:24   \n",
       "1      681448153    False   finalized                   3      2/25/15 1:53   \n",
       "2      681448156    False   finalized                   3     2/25/15 10:01   \n",
       "3      681448158    False   finalized                   3      2/25/15 3:05   \n",
       "4      681448159    False   finalized                   3      2/25/15 5:50   \n",
       "...          ...      ...         ...                 ...               ...   \n",
       "14635  681679794    False   finalized                   3     2/25/15 19:46   \n",
       "14636  681679795    False   finalized                   3     2/25/15 19:14   \n",
       "14637  681679796    False   finalized                   3     2/25/15 19:04   \n",
       "14638  681679797    False   finalized                   3     2/25/15 18:59   \n",
       "14639  681679798    False   finalized                   3     2/25/15 19:06   \n",
       "\n",
       "      airline_sentiment  airline_sentiment:confidence          negativereason  \\\n",
       "0               neutral                        1.0000                     NaN   \n",
       "1              positive                        0.3486                     NaN   \n",
       "2               neutral                        0.6837                     NaN   \n",
       "3              negative                        1.0000              Bad Flight   \n",
       "4              negative                        1.0000              Can't Tell   \n",
       "...                 ...                           ...                     ...   \n",
       "14635          positive                        0.3487                     NaN   \n",
       "14636          negative                        1.0000  Customer Service Issue   \n",
       "14637           neutral                        1.0000                     NaN   \n",
       "14638          negative                        1.0000  Customer Service Issue   \n",
       "14639           neutral                        0.6771                     NaN   \n",
       "\n",
       "       negativereason:confidence         airline airline_sentiment_gold  \\\n",
       "0                            NaN  Virgin America                    NaN   \n",
       "1                         0.0000  Virgin America                    NaN   \n",
       "2                            NaN  Virgin America                    NaN   \n",
       "3                         0.7033  Virgin America                    NaN   \n",
       "4                         1.0000  Virgin America                    NaN   \n",
       "...                          ...             ...                    ...   \n",
       "14635                     0.0000        American                    NaN   \n",
       "14636                     1.0000        American                    NaN   \n",
       "14637                        NaN        American                    NaN   \n",
       "14638                     0.6659        American                    NaN   \n",
       "14639                     0.0000        American                    NaN   \n",
       "\n",
       "                  name negativereason_gold  retweet_count  \\\n",
       "0              cairdin                 NaN              0   \n",
       "1             jnardino                 NaN              0   \n",
       "2           yvonnalynn                 NaN              0   \n",
       "3             jnardino                 NaN              0   \n",
       "4             jnardino                 NaN              0   \n",
       "...                ...                 ...            ...   \n",
       "14635  KristenReenders                 NaN              0   \n",
       "14636         itsropes                 NaN              0   \n",
       "14637         sanyabun                 NaN              0   \n",
       "14638       SraJackson                 NaN              0   \n",
       "14639        daviddtwu                 NaN              0   \n",
       "\n",
       "                                                    text tweet_coord  \\\n",
       "0                    @VirginAmerica What @dhepburn said.         NaN   \n",
       "1      @VirginAmerica plus you've added commercials t...         NaN   \n",
       "2      @VirginAmerica I didn't today... Must mean I n...         NaN   \n",
       "3      @VirginAmerica it's really aggressive to blast...         NaN   \n",
       "4      @VirginAmerica and it's a really big bad thing...         NaN   \n",
       "...                                                  ...         ...   \n",
       "14635  @AmericanAir thank you we got on a different f...         NaN   \n",
       "14636  @AmericanAir leaving over 20 minutes Late Flig...         NaN   \n",
       "14637  @AmericanAir Please bring American Airlines to...         NaN   \n",
       "14638  @AmericanAir you have my money, you change my ...         NaN   \n",
       "14639  @AmericanAir we have 8 ppl so we need 2 know h...         NaN   \n",
       "\n",
       "       tweet_created      tweet_id tweet_location               user_timezone  \n",
       "0      2/24/15 11:35  5.703060e+17            NaN  Eastern Time (US & Canada)  \n",
       "1      2/24/15 11:15  5.703010e+17            NaN  Pacific Time (US & Canada)  \n",
       "2      2/24/15 11:15  5.703010e+17      Lets Play  Central Time (US & Canada)  \n",
       "3      2/24/15 11:15  5.703010e+17            NaN  Pacific Time (US & Canada)  \n",
       "4      2/24/15 11:14  5.703010e+17            NaN  Pacific Time (US & Canada)  \n",
       "...              ...           ...            ...                         ...  \n",
       "14635  2/22/15 12:01  5.695880e+17            NaN                         NaN  \n",
       "14636  2/22/15 11:59  5.695870e+17          Texas                         NaN  \n",
       "14637  2/22/15 11:59  5.695870e+17  Nigeria,lagos                         NaN  \n",
       "14638  2/22/15 11:59  5.695870e+17     New Jersey  Eastern Time (US & Canada)  \n",
       "14639  2/22/15 11:58  5.695870e+17     dallas, TX                         NaN  \n",
       "\n",
       "[14640 rows x 20 columns]"
      ]
     },
     "execution_count": 91,
     "metadata": {},
     "output_type": "execute_result"
    }
   ],
   "source": [
    "Data = pd.read_csv(\"Airline-Sentiment-2-w-AA.csv\",encoding=\"ISO-8859-1\")\n",
    "Data"
   ]
  },
  {
   "cell_type": "code",
   "execution_count": 92,
   "metadata": {},
   "outputs": [],
   "source": [
    "Data.rename(columns={\"tweet_created\":\"Date\"},inplace = True)"
   ]
  },
  {
   "cell_type": "code",
   "execution_count": 93,
   "metadata": {},
   "outputs": [
    {
     "data": {
      "text/plain": [
       "0        2/24/15 11:35\n",
       "1        2/24/15 11:15\n",
       "2        2/24/15 11:15\n",
       "3        2/24/15 11:15\n",
       "4        2/24/15 11:14\n",
       "             ...      \n",
       "14635    2/22/15 12:01\n",
       "14636    2/22/15 11:59\n",
       "14637    2/22/15 11:59\n",
       "14638    2/22/15 11:59\n",
       "14639    2/22/15 11:58\n",
       "Name: Date, Length: 14640, dtype: object"
      ]
     },
     "execution_count": 93,
     "metadata": {},
     "output_type": "execute_result"
    }
   ],
   "source": [
    "Data.Date #dtype of Date is object in the dataset "
   ]
  },
  {
   "cell_type": "markdown",
   "metadata": {},
   "source": [
    "#### Converting to Datetime  "
   ]
  },
  {
   "cell_type": "code",
   "execution_count": 94,
   "metadata": {},
   "outputs": [],
   "source": [
    "# we can use pd.to_datetime to convert a series/column of object datatype to datetime\n",
    "Data[\"Date\"] = pd.to_datetime(Data.Date)"
   ]
  },
  {
   "cell_type": "markdown",
   "metadata": {},
   "source": [
    "#### Custom Format "
   ]
  },
  {
   "cell_type": "markdown",
   "metadata": {},
   "source": [
    "* Here the Date is given as YYYY-DD-MM HH:MM:SS\n",
    "* we can use argument format to change the format of the data\n",
    "\n",
    "<ol>\n",
    "    <li> For Day - %d(01),%a(Mon),%A(MONDAY)</li>\n",
    "    <li> For Month - %m(01),%b(Jan),%B(JANUARY)</li>\n",
    "    <li> Year with century :%Y(2021)</li>\n",
    "    <li>Year without century : %y(21)</li> \n",
    "    <li>Hours 24hr Format  : %H</li> \n",
    "    <li>Hours 12hr Format  : %I</li> \n",
    "    <li>Minutes   : %M</li>\n",
    "    <li>Seconds   : %S</li>\n",
    "    <li>am/pm     : %p</li>\n",
    "    </ol>"
   ]
  },
  {
   "cell_type": "code",
   "execution_count": 95,
   "metadata": {},
   "outputs": [
    {
     "data": {
      "text/plain": [
       "0   2015-02-24 11:35:00\n",
       "1   2015-02-24 11:15:00\n",
       "2   2015-02-24 11:15:00\n",
       "3   2015-02-24 11:15:00\n",
       "4   2015-02-24 11:14:00\n",
       "Name: Date, dtype: datetime64[ns]"
      ]
     },
     "execution_count": 95,
     "metadata": {},
     "output_type": "execute_result"
    }
   ],
   "source": [
    "Data.Date.head(5)"
   ]
  },
  {
   "cell_type": "code",
   "execution_count": 96,
   "metadata": {},
   "outputs": [],
   "source": [
    "Data[\"Date\"] = pd.to_datetime(Data[\"Date\"],format = \"%Y-%d-%m %I:%M\")"
   ]
  },
  {
   "cell_type": "markdown",
   "metadata": {},
   "source": [
    "####  Assembling of Date"
   ]
  },
  {
   "cell_type": "code",
   "execution_count": 97,
   "metadata": {},
   "outputs": [
    {
     "data": {
      "text/html": [
       "<div>\n",
       "<style scoped>\n",
       "    .dataframe tbody tr th:only-of-type {\n",
       "        vertical-align: middle;\n",
       "    }\n",
       "\n",
       "    .dataframe tbody tr th {\n",
       "        vertical-align: top;\n",
       "    }\n",
       "\n",
       "    .dataframe thead th {\n",
       "        text-align: right;\n",
       "    }\n",
       "</style>\n",
       "<table border=\"1\" class=\"dataframe\">\n",
       "  <thead>\n",
       "    <tr style=\"text-align: right;\">\n",
       "      <th></th>\n",
       "      <th>Year</th>\n",
       "      <th>Month</th>\n",
       "      <th>Day</th>\n",
       "    </tr>\n",
       "  </thead>\n",
       "  <tbody>\n",
       "    <tr>\n",
       "      <th>0</th>\n",
       "      <td>2015</td>\n",
       "      <td>1</td>\n",
       "      <td>2</td>\n",
       "    </tr>\n",
       "    <tr>\n",
       "      <th>1</th>\n",
       "      <td>2017</td>\n",
       "      <td>4</td>\n",
       "      <td>21</td>\n",
       "    </tr>\n",
       "    <tr>\n",
       "      <th>2</th>\n",
       "      <td>2021</td>\n",
       "      <td>11</td>\n",
       "      <td>29</td>\n",
       "    </tr>\n",
       "  </tbody>\n",
       "</table>\n",
       "</div>"
      ],
      "text/plain": [
       "   Year  Month  Day\n",
       "0  2015      1    2\n",
       "1  2017      4   21\n",
       "2  2021     11   29"
      ]
     },
     "execution_count": 97,
     "metadata": {},
     "output_type": "execute_result"
    }
   ],
   "source": [
    "dates = pd.DataFrame({\"Year\":[2015,2017,2021],\"Month\":[1,4,11],\"Day\":[2,21,29]})\n",
    "dates"
   ]
  },
  {
   "cell_type": "code",
   "execution_count": 98,
   "metadata": {},
   "outputs": [],
   "source": [
    "dates[\"Date\"] = pd.to_datetime(dates)"
   ]
  },
  {
   "cell_type": "code",
   "execution_count": 99,
   "metadata": {},
   "outputs": [
    {
     "data": {
      "text/html": [
       "<div>\n",
       "<style scoped>\n",
       "    .dataframe tbody tr th:only-of-type {\n",
       "        vertical-align: middle;\n",
       "    }\n",
       "\n",
       "    .dataframe tbody tr th {\n",
       "        vertical-align: top;\n",
       "    }\n",
       "\n",
       "    .dataframe thead th {\n",
       "        text-align: right;\n",
       "    }\n",
       "</style>\n",
       "<table border=\"1\" class=\"dataframe\">\n",
       "  <thead>\n",
       "    <tr style=\"text-align: right;\">\n",
       "      <th></th>\n",
       "      <th>Year</th>\n",
       "      <th>Month</th>\n",
       "      <th>Day</th>\n",
       "      <th>Date</th>\n",
       "    </tr>\n",
       "  </thead>\n",
       "  <tbody>\n",
       "    <tr>\n",
       "      <th>0</th>\n",
       "      <td>2015</td>\n",
       "      <td>1</td>\n",
       "      <td>2</td>\n",
       "      <td>2015-01-02</td>\n",
       "    </tr>\n",
       "    <tr>\n",
       "      <th>1</th>\n",
       "      <td>2017</td>\n",
       "      <td>4</td>\n",
       "      <td>21</td>\n",
       "      <td>2017-04-21</td>\n",
       "    </tr>\n",
       "    <tr>\n",
       "      <th>2</th>\n",
       "      <td>2021</td>\n",
       "      <td>11</td>\n",
       "      <td>29</td>\n",
       "      <td>2021-11-29</td>\n",
       "    </tr>\n",
       "  </tbody>\n",
       "</table>\n",
       "</div>"
      ],
      "text/plain": [
       "   Year  Month  Day       Date\n",
       "0  2015      1    2 2015-01-02\n",
       "1  2017      4   21 2017-04-21\n",
       "2  2021     11   29 2021-11-29"
      ]
     },
     "execution_count": 99,
     "metadata": {},
     "output_type": "execute_result"
    }
   ],
   "source": [
    "dates"
   ]
  },
  {
   "cell_type": "markdown",
   "metadata": {},
   "source": [
    "#### Get Date Parts "
   ]
  },
  {
   "cell_type": "code",
   "execution_count": 100,
   "metadata": {},
   "outputs": [
    {
     "data": {
      "text/plain": [
       "0    2015\n",
       "1    2017\n",
       "2    2021\n",
       "Name: Year, dtype: int64"
      ]
     },
     "execution_count": 100,
     "metadata": {},
     "output_type": "execute_result"
    }
   ],
   "source": [
    "dates.Year"
   ]
  },
  {
   "cell_type": "code",
   "execution_count": 101,
   "metadata": {},
   "outputs": [
    {
     "data": {
      "text/plain": [
       "0     1\n",
       "1     4\n",
       "2    11\n",
       "Name: Month, dtype: int64"
      ]
     },
     "execution_count": 101,
     "metadata": {},
     "output_type": "execute_result"
    }
   ],
   "source": [
    "dates.Month"
   ]
  },
  {
   "cell_type": "code",
   "execution_count": 102,
   "metadata": {},
   "outputs": [
    {
     "data": {
      "text/plain": [
       "0     2\n",
       "1    21\n",
       "2    29\n",
       "Name: Day, dtype: int64"
      ]
     },
     "execution_count": 102,
     "metadata": {},
     "output_type": "execute_result"
    }
   ],
   "source": [
    "dates.Day"
   ]
  },
  {
   "cell_type": "code",
   "execution_count": 103,
   "metadata": {},
   "outputs": [
    {
     "data": {
      "text/plain": [
       "0    2015\n",
       "1    2017\n",
       "2    2021\n",
       "Name: Date, dtype: int64"
      ]
     },
     "execution_count": 103,
     "metadata": {},
     "output_type": "execute_result"
    }
   ],
   "source": [
    "dates[\"Date\"].dt.year"
   ]
  },
  {
   "cell_type": "code",
   "execution_count": 104,
   "metadata": {},
   "outputs": [
    {
     "data": {
      "text/plain": [
       "0     1\n",
       "1    16\n",
       "2    48\n",
       "Name: Date, dtype: int64"
      ]
     },
     "execution_count": 104,
     "metadata": {},
     "output_type": "execute_result"
    }
   ],
   "source": [
    "dates[\"Date\"].dt.week"
   ]
  },
  {
   "cell_type": "code",
   "execution_count": 105,
   "metadata": {},
   "outputs": [
    {
     "data": {
      "text/plain": [
       "0    False\n",
       "1    False\n",
       "2    False\n",
       "Name: Date, dtype: bool"
      ]
     },
     "execution_count": 105,
     "metadata": {},
     "output_type": "execute_result"
    }
   ],
   "source": [
    "dates[\"Date\"].dt.is_leap_year"
   ]
  },
  {
   "cell_type": "markdown",
   "metadata": {},
   "source": [
    "#### In Pandas we can use pd.Timestamp to work on Dates"
   ]
  },
  {
   "cell_type": "code",
   "execution_count": 106,
   "metadata": {},
   "outputs": [],
   "source": [
    "# To work on dates first step is to convert it to dates from object data type\n",
    "Data[\"Date\"] = pd.to_datetime(Data.Date,format=\"%d-%m-%Y %h:%m:%s\")"
   ]
  },
  {
   "cell_type": "code",
   "execution_count": 107,
   "metadata": {},
   "outputs": [
    {
     "data": {
      "text/plain": [
       "0       2015-02-24 11:35:00\n",
       "1       2015-02-24 11:15:00\n",
       "2       2015-02-24 11:15:00\n",
       "3       2015-02-24 11:15:00\n",
       "4       2015-02-24 11:14:00\n",
       "                ...        \n",
       "14635   2015-02-22 12:01:00\n",
       "14636   2015-02-22 11:59:00\n",
       "14637   2015-02-22 11:59:00\n",
       "14638   2015-02-22 11:59:00\n",
       "14639   2015-02-22 11:58:00\n",
       "Name: Date, Length: 14640, dtype: datetime64[ns]"
      ]
     },
     "execution_count": 107,
     "metadata": {},
     "output_type": "execute_result"
    }
   ],
   "source": [
    "Data[\"Date\"]"
   ]
  },
  {
   "cell_type": "code",
   "execution_count": 108,
   "metadata": {},
   "outputs": [
    {
     "data": {
      "text/plain": [
       "0        24-Feb-2015-11:35:00 AM\n",
       "1        24-Feb-2015-11:15:00 AM\n",
       "2        24-Feb-2015-11:15:00 AM\n",
       "3        24-Feb-2015-11:15:00 AM\n",
       "4        24-Feb-2015-11:14:00 AM\n",
       "                  ...           \n",
       "14635    22-Feb-2015-12:01:00 PM\n",
       "14636    22-Feb-2015-11:59:00 AM\n",
       "14637    22-Feb-2015-11:59:00 AM\n",
       "14638    22-Feb-2015-11:59:00 AM\n",
       "14639    22-Feb-2015-11:58:00 AM\n",
       "Name: Date, Length: 14640, dtype: object"
      ]
     },
     "execution_count": 108,
     "metadata": {},
     "output_type": "execute_result"
    }
   ],
   "source": [
    "# to do the formatting on top of it for end user we can use strftime\n",
    "Data[\"Date\"].apply(lambda x:x.strftime(\"%d-%b-%Y-%I:%M:%S %p\"))"
   ]
  },
  {
   "cell_type": "markdown",
   "metadata": {},
   "source": [
    "#### Get the age "
   ]
  },
  {
   "cell_type": "code",
   "execution_count": 109,
   "metadata": {},
   "outputs": [],
   "source": [
    "Data[\"Date\"] = pd.to_datetime(Data[\"Date\"])"
   ]
  },
  {
   "cell_type": "code",
   "execution_count": 110,
   "metadata": {},
   "outputs": [],
   "source": [
    "today = pd.Timestamp.now()"
   ]
  },
  {
   "cell_type": "code",
   "execution_count": 111,
   "metadata": {},
   "outputs": [
    {
     "data": {
      "text/plain": [
       "0        6\n",
       "1        6\n",
       "2        6\n",
       "3        6\n",
       "4        6\n",
       "        ..\n",
       "14635    6\n",
       "14636    6\n",
       "14637    6\n",
       "14638    6\n",
       "14639    6\n",
       "Name: Date, Length: 14640, dtype: int64"
      ]
     },
     "execution_count": 111,
     "metadata": {},
     "output_type": "execute_result"
    }
   ],
   "source": [
    "today.year - Data[\"Date\"].dt.year"
   ]
  },
  {
   "cell_type": "markdown",
   "metadata": {},
   "source": [
    "#### Date Column as index "
   ]
  },
  {
   "cell_type": "code",
   "execution_count": 112,
   "metadata": {},
   "outputs": [],
   "source": [
    "# We can work on dates a lot more easier by setting them as index for that when we read data we have to convert the datatype of\n",
    "# dates to date by using parse_dates\n",
    "a = pd.read_csv(\"Airline-Sentiment-2-w-AA.csv\",encoding=\"ISO-8859-1\",parse_dates=['tweet_created'])"
   ]
  },
  {
   "cell_type": "code",
   "execution_count": 113,
   "metadata": {},
   "outputs": [
    {
     "data": {
      "text/html": [
       "<div>\n",
       "<style scoped>\n",
       "    .dataframe tbody tr th:only-of-type {\n",
       "        vertical-align: middle;\n",
       "    }\n",
       "\n",
       "    .dataframe tbody tr th {\n",
       "        vertical-align: top;\n",
       "    }\n",
       "\n",
       "    .dataframe thead th {\n",
       "        text-align: right;\n",
       "    }\n",
       "</style>\n",
       "<table border=\"1\" class=\"dataframe\">\n",
       "  <thead>\n",
       "    <tr style=\"text-align: right;\">\n",
       "      <th></th>\n",
       "      <th>_unit_id</th>\n",
       "      <th>_golden</th>\n",
       "      <th>_unit_state</th>\n",
       "      <th>_trusted_judgments</th>\n",
       "      <th>_last_judgment_at</th>\n",
       "      <th>airline_sentiment</th>\n",
       "      <th>airline_sentiment:confidence</th>\n",
       "      <th>negativereason</th>\n",
       "      <th>negativereason:confidence</th>\n",
       "      <th>airline</th>\n",
       "      <th>airline_sentiment_gold</th>\n",
       "      <th>name</th>\n",
       "      <th>negativereason_gold</th>\n",
       "      <th>retweet_count</th>\n",
       "      <th>text</th>\n",
       "      <th>tweet_coord</th>\n",
       "      <th>tweet_created</th>\n",
       "      <th>tweet_id</th>\n",
       "      <th>tweet_location</th>\n",
       "      <th>user_timezone</th>\n",
       "    </tr>\n",
       "  </thead>\n",
       "  <tbody>\n",
       "    <tr>\n",
       "      <th>0</th>\n",
       "      <td>681448150</td>\n",
       "      <td>False</td>\n",
       "      <td>finalized</td>\n",
       "      <td>3</td>\n",
       "      <td>2/25/15 5:24</td>\n",
       "      <td>neutral</td>\n",
       "      <td>1.0000</td>\n",
       "      <td>NaN</td>\n",
       "      <td>NaN</td>\n",
       "      <td>Virgin America</td>\n",
       "      <td>NaN</td>\n",
       "      <td>cairdin</td>\n",
       "      <td>NaN</td>\n",
       "      <td>0</td>\n",
       "      <td>@VirginAmerica What @dhepburn said.</td>\n",
       "      <td>NaN</td>\n",
       "      <td>2015-02-24 11:35:00</td>\n",
       "      <td>5.703060e+17</td>\n",
       "      <td>NaN</td>\n",
       "      <td>Eastern Time (US &amp; Canada)</td>\n",
       "    </tr>\n",
       "    <tr>\n",
       "      <th>1</th>\n",
       "      <td>681448153</td>\n",
       "      <td>False</td>\n",
       "      <td>finalized</td>\n",
       "      <td>3</td>\n",
       "      <td>2/25/15 1:53</td>\n",
       "      <td>positive</td>\n",
       "      <td>0.3486</td>\n",
       "      <td>NaN</td>\n",
       "      <td>0.0000</td>\n",
       "      <td>Virgin America</td>\n",
       "      <td>NaN</td>\n",
       "      <td>jnardino</td>\n",
       "      <td>NaN</td>\n",
       "      <td>0</td>\n",
       "      <td>@VirginAmerica plus you've added commercials t...</td>\n",
       "      <td>NaN</td>\n",
       "      <td>2015-02-24 11:15:00</td>\n",
       "      <td>5.703010e+17</td>\n",
       "      <td>NaN</td>\n",
       "      <td>Pacific Time (US &amp; Canada)</td>\n",
       "    </tr>\n",
       "    <tr>\n",
       "      <th>2</th>\n",
       "      <td>681448156</td>\n",
       "      <td>False</td>\n",
       "      <td>finalized</td>\n",
       "      <td>3</td>\n",
       "      <td>2/25/15 10:01</td>\n",
       "      <td>neutral</td>\n",
       "      <td>0.6837</td>\n",
       "      <td>NaN</td>\n",
       "      <td>NaN</td>\n",
       "      <td>Virgin America</td>\n",
       "      <td>NaN</td>\n",
       "      <td>yvonnalynn</td>\n",
       "      <td>NaN</td>\n",
       "      <td>0</td>\n",
       "      <td>@VirginAmerica I didn't today... Must mean I n...</td>\n",
       "      <td>NaN</td>\n",
       "      <td>2015-02-24 11:15:00</td>\n",
       "      <td>5.703010e+17</td>\n",
       "      <td>Lets Play</td>\n",
       "      <td>Central Time (US &amp; Canada)</td>\n",
       "    </tr>\n",
       "    <tr>\n",
       "      <th>3</th>\n",
       "      <td>681448158</td>\n",
       "      <td>False</td>\n",
       "      <td>finalized</td>\n",
       "      <td>3</td>\n",
       "      <td>2/25/15 3:05</td>\n",
       "      <td>negative</td>\n",
       "      <td>1.0000</td>\n",
       "      <td>Bad Flight</td>\n",
       "      <td>0.7033</td>\n",
       "      <td>Virgin America</td>\n",
       "      <td>NaN</td>\n",
       "      <td>jnardino</td>\n",
       "      <td>NaN</td>\n",
       "      <td>0</td>\n",
       "      <td>@VirginAmerica it's really aggressive to blast...</td>\n",
       "      <td>NaN</td>\n",
       "      <td>2015-02-24 11:15:00</td>\n",
       "      <td>5.703010e+17</td>\n",
       "      <td>NaN</td>\n",
       "      <td>Pacific Time (US &amp; Canada)</td>\n",
       "    </tr>\n",
       "    <tr>\n",
       "      <th>4</th>\n",
       "      <td>681448159</td>\n",
       "      <td>False</td>\n",
       "      <td>finalized</td>\n",
       "      <td>3</td>\n",
       "      <td>2/25/15 5:50</td>\n",
       "      <td>negative</td>\n",
       "      <td>1.0000</td>\n",
       "      <td>Can't Tell</td>\n",
       "      <td>1.0000</td>\n",
       "      <td>Virgin America</td>\n",
       "      <td>NaN</td>\n",
       "      <td>jnardino</td>\n",
       "      <td>NaN</td>\n",
       "      <td>0</td>\n",
       "      <td>@VirginAmerica and it's a really big bad thing...</td>\n",
       "      <td>NaN</td>\n",
       "      <td>2015-02-24 11:14:00</td>\n",
       "      <td>5.703010e+17</td>\n",
       "      <td>NaN</td>\n",
       "      <td>Pacific Time (US &amp; Canada)</td>\n",
       "    </tr>\n",
       "  </tbody>\n",
       "</table>\n",
       "</div>"
      ],
      "text/plain": [
       "    _unit_id  _golden _unit_state  _trusted_judgments _last_judgment_at  \\\n",
       "0  681448150    False   finalized                   3      2/25/15 5:24   \n",
       "1  681448153    False   finalized                   3      2/25/15 1:53   \n",
       "2  681448156    False   finalized                   3     2/25/15 10:01   \n",
       "3  681448158    False   finalized                   3      2/25/15 3:05   \n",
       "4  681448159    False   finalized                   3      2/25/15 5:50   \n",
       "\n",
       "  airline_sentiment  airline_sentiment:confidence negativereason  \\\n",
       "0           neutral                        1.0000            NaN   \n",
       "1          positive                        0.3486            NaN   \n",
       "2           neutral                        0.6837            NaN   \n",
       "3          negative                        1.0000     Bad Flight   \n",
       "4          negative                        1.0000     Can't Tell   \n",
       "\n",
       "   negativereason:confidence         airline airline_sentiment_gold  \\\n",
       "0                        NaN  Virgin America                    NaN   \n",
       "1                     0.0000  Virgin America                    NaN   \n",
       "2                        NaN  Virgin America                    NaN   \n",
       "3                     0.7033  Virgin America                    NaN   \n",
       "4                     1.0000  Virgin America                    NaN   \n",
       "\n",
       "         name negativereason_gold  retweet_count  \\\n",
       "0     cairdin                 NaN              0   \n",
       "1    jnardino                 NaN              0   \n",
       "2  yvonnalynn                 NaN              0   \n",
       "3    jnardino                 NaN              0   \n",
       "4    jnardino                 NaN              0   \n",
       "\n",
       "                                                text tweet_coord  \\\n",
       "0                @VirginAmerica What @dhepburn said.         NaN   \n",
       "1  @VirginAmerica plus you've added commercials t...         NaN   \n",
       "2  @VirginAmerica I didn't today... Must mean I n...         NaN   \n",
       "3  @VirginAmerica it's really aggressive to blast...         NaN   \n",
       "4  @VirginAmerica and it's a really big bad thing...         NaN   \n",
       "\n",
       "        tweet_created      tweet_id tweet_location               user_timezone  \n",
       "0 2015-02-24 11:35:00  5.703060e+17            NaN  Eastern Time (US & Canada)  \n",
       "1 2015-02-24 11:15:00  5.703010e+17            NaN  Pacific Time (US & Canada)  \n",
       "2 2015-02-24 11:15:00  5.703010e+17      Lets Play  Central Time (US & Canada)  \n",
       "3 2015-02-24 11:15:00  5.703010e+17            NaN  Pacific Time (US & Canada)  \n",
       "4 2015-02-24 11:14:00  5.703010e+17            NaN  Pacific Time (US & Canada)  "
      ]
     },
     "execution_count": 113,
     "metadata": {},
     "output_type": "execute_result"
    }
   ],
   "source": [
    "a.head(5)"
   ]
  },
  {
   "cell_type": "code",
   "execution_count": 114,
   "metadata": {},
   "outputs": [
    {
     "name": "stdout",
     "output_type": "stream",
     "text": [
      "<class 'pandas.core.frame.DataFrame'>\n",
      "RangeIndex: 14640 entries, 0 to 14639\n",
      "Data columns (total 20 columns):\n",
      " #   Column                        Non-Null Count  Dtype         \n",
      "---  ------                        --------------  -----         \n",
      " 0   _unit_id                      14640 non-null  int64         \n",
      " 1   _golden                       14640 non-null  bool          \n",
      " 2   _unit_state                   14640 non-null  object        \n",
      " 3   _trusted_judgments            14640 non-null  int64         \n",
      " 4   _last_judgment_at             14584 non-null  object        \n",
      " 5   airline_sentiment             14640 non-null  object        \n",
      " 6   airline_sentiment:confidence  14640 non-null  float64       \n",
      " 7   negativereason                9178 non-null   object        \n",
      " 8   negativereason:confidence     10522 non-null  float64       \n",
      " 9   airline                       14640 non-null  object        \n",
      " 10  airline_sentiment_gold        40 non-null     object        \n",
      " 11  name                          14640 non-null  object        \n",
      " 12  negativereason_gold           32 non-null     object        \n",
      " 13  retweet_count                 14640 non-null  int64         \n",
      " 14  text                          14640 non-null  object        \n",
      " 15  tweet_coord                   1019 non-null   object        \n",
      " 16  tweet_created                 14640 non-null  datetime64[ns]\n",
      " 17  tweet_id                      14640 non-null  float64       \n",
      " 18  tweet_location                9907 non-null   object        \n",
      " 19  user_timezone                 9820 non-null   object        \n",
      "dtypes: bool(1), datetime64[ns](1), float64(3), int64(3), object(12)\n",
      "memory usage: 2.1+ MB\n"
     ]
    }
   ],
   "source": [
    "a.info()\n",
    "#  hence we can see the datatype is datetime 64"
   ]
  },
  {
   "cell_type": "code",
   "execution_count": 115,
   "metadata": {},
   "outputs": [],
   "source": [
    "a.rename(columns={\"tweet_created\":\"Date\"},inplace=True)"
   ]
  },
  {
   "cell_type": "code",
   "execution_count": 116,
   "metadata": {},
   "outputs": [],
   "source": [
    "a = a.set_index([\"Date\"])"
   ]
  },
  {
   "cell_type": "code",
   "execution_count": 117,
   "metadata": {},
   "outputs": [
    {
     "data": {
      "text/plain": [
       "52977"
      ]
     },
     "execution_count": 117,
     "metadata": {},
     "output_type": "execute_result"
    }
   ],
   "source": [
    "# by setting date column as index we can do aggregations\n",
    "a.loc['2015','_trusted_judgments'].sum()"
   ]
  },
  {
   "cell_type": "code",
   "execution_count": 118,
   "metadata": {},
   "outputs": [
    {
     "data": {
      "text/html": [
       "<div>\n",
       "<style scoped>\n",
       "    .dataframe tbody tr th:only-of-type {\n",
       "        vertical-align: middle;\n",
       "    }\n",
       "\n",
       "    .dataframe tbody tr th {\n",
       "        vertical-align: top;\n",
       "    }\n",
       "\n",
       "    .dataframe thead th {\n",
       "        text-align: right;\n",
       "    }\n",
       "</style>\n",
       "<table border=\"1\" class=\"dataframe\">\n",
       "  <thead>\n",
       "    <tr style=\"text-align: right;\">\n",
       "      <th></th>\n",
       "      <th>_unit_id</th>\n",
       "      <th>_golden</th>\n",
       "      <th>_unit_state</th>\n",
       "      <th>_trusted_judgments</th>\n",
       "      <th>_last_judgment_at</th>\n",
       "      <th>airline_sentiment</th>\n",
       "      <th>airline_sentiment:confidence</th>\n",
       "      <th>negativereason</th>\n",
       "      <th>negativereason:confidence</th>\n",
       "      <th>airline</th>\n",
       "      <th>airline_sentiment_gold</th>\n",
       "      <th>name</th>\n",
       "      <th>negativereason_gold</th>\n",
       "      <th>retweet_count</th>\n",
       "      <th>text</th>\n",
       "      <th>tweet_coord</th>\n",
       "      <th>tweet_id</th>\n",
       "      <th>tweet_location</th>\n",
       "      <th>user_timezone</th>\n",
       "    </tr>\n",
       "    <tr>\n",
       "      <th>Date</th>\n",
       "      <th></th>\n",
       "      <th></th>\n",
       "      <th></th>\n",
       "      <th></th>\n",
       "      <th></th>\n",
       "      <th></th>\n",
       "      <th></th>\n",
       "      <th></th>\n",
       "      <th></th>\n",
       "      <th></th>\n",
       "      <th></th>\n",
       "      <th></th>\n",
       "      <th></th>\n",
       "      <th></th>\n",
       "      <th></th>\n",
       "      <th></th>\n",
       "      <th></th>\n",
       "      <th></th>\n",
       "      <th></th>\n",
       "    </tr>\n",
       "  </thead>\n",
       "  <tbody>\n",
       "    <tr>\n",
       "      <th>2015-02-24 11:35:00</th>\n",
       "      <td>681448150</td>\n",
       "      <td>False</td>\n",
       "      <td>finalized</td>\n",
       "      <td>3</td>\n",
       "      <td>2/25/15 5:24</td>\n",
       "      <td>neutral</td>\n",
       "      <td>1.0000</td>\n",
       "      <td>NaN</td>\n",
       "      <td>NaN</td>\n",
       "      <td>Virgin America</td>\n",
       "      <td>NaN</td>\n",
       "      <td>cairdin</td>\n",
       "      <td>NaN</td>\n",
       "      <td>0</td>\n",
       "      <td>@VirginAmerica What @dhepburn said.</td>\n",
       "      <td>NaN</td>\n",
       "      <td>5.703060e+17</td>\n",
       "      <td>NaN</td>\n",
       "      <td>Eastern Time (US &amp; Canada)</td>\n",
       "    </tr>\n",
       "    <tr>\n",
       "      <th>2015-02-24 11:15:00</th>\n",
       "      <td>681448153</td>\n",
       "      <td>False</td>\n",
       "      <td>finalized</td>\n",
       "      <td>3</td>\n",
       "      <td>2/25/15 1:53</td>\n",
       "      <td>positive</td>\n",
       "      <td>0.3486</td>\n",
       "      <td>NaN</td>\n",
       "      <td>0.0000</td>\n",
       "      <td>Virgin America</td>\n",
       "      <td>NaN</td>\n",
       "      <td>jnardino</td>\n",
       "      <td>NaN</td>\n",
       "      <td>0</td>\n",
       "      <td>@VirginAmerica plus you've added commercials t...</td>\n",
       "      <td>NaN</td>\n",
       "      <td>5.703010e+17</td>\n",
       "      <td>NaN</td>\n",
       "      <td>Pacific Time (US &amp; Canada)</td>\n",
       "    </tr>\n",
       "    <tr>\n",
       "      <th>2015-02-24 11:15:00</th>\n",
       "      <td>681448156</td>\n",
       "      <td>False</td>\n",
       "      <td>finalized</td>\n",
       "      <td>3</td>\n",
       "      <td>2/25/15 10:01</td>\n",
       "      <td>neutral</td>\n",
       "      <td>0.6837</td>\n",
       "      <td>NaN</td>\n",
       "      <td>NaN</td>\n",
       "      <td>Virgin America</td>\n",
       "      <td>NaN</td>\n",
       "      <td>yvonnalynn</td>\n",
       "      <td>NaN</td>\n",
       "      <td>0</td>\n",
       "      <td>@VirginAmerica I didn't today... Must mean I n...</td>\n",
       "      <td>NaN</td>\n",
       "      <td>5.703010e+17</td>\n",
       "      <td>Lets Play</td>\n",
       "      <td>Central Time (US &amp; Canada)</td>\n",
       "    </tr>\n",
       "    <tr>\n",
       "      <th>2015-02-24 11:15:00</th>\n",
       "      <td>681448158</td>\n",
       "      <td>False</td>\n",
       "      <td>finalized</td>\n",
       "      <td>3</td>\n",
       "      <td>2/25/15 3:05</td>\n",
       "      <td>negative</td>\n",
       "      <td>1.0000</td>\n",
       "      <td>Bad Flight</td>\n",
       "      <td>0.7033</td>\n",
       "      <td>Virgin America</td>\n",
       "      <td>NaN</td>\n",
       "      <td>jnardino</td>\n",
       "      <td>NaN</td>\n",
       "      <td>0</td>\n",
       "      <td>@VirginAmerica it's really aggressive to blast...</td>\n",
       "      <td>NaN</td>\n",
       "      <td>5.703010e+17</td>\n",
       "      <td>NaN</td>\n",
       "      <td>Pacific Time (US &amp; Canada)</td>\n",
       "    </tr>\n",
       "    <tr>\n",
       "      <th>2015-02-24 11:14:00</th>\n",
       "      <td>681448159</td>\n",
       "      <td>False</td>\n",
       "      <td>finalized</td>\n",
       "      <td>3</td>\n",
       "      <td>2/25/15 5:50</td>\n",
       "      <td>negative</td>\n",
       "      <td>1.0000</td>\n",
       "      <td>Can't Tell</td>\n",
       "      <td>1.0000</td>\n",
       "      <td>Virgin America</td>\n",
       "      <td>NaN</td>\n",
       "      <td>jnardino</td>\n",
       "      <td>NaN</td>\n",
       "      <td>0</td>\n",
       "      <td>@VirginAmerica and it's a really big bad thing...</td>\n",
       "      <td>NaN</td>\n",
       "      <td>5.703010e+17</td>\n",
       "      <td>NaN</td>\n",
       "      <td>Pacific Time (US &amp; Canada)</td>\n",
       "    </tr>\n",
       "    <tr>\n",
       "      <th>...</th>\n",
       "      <td>...</td>\n",
       "      <td>...</td>\n",
       "      <td>...</td>\n",
       "      <td>...</td>\n",
       "      <td>...</td>\n",
       "      <td>...</td>\n",
       "      <td>...</td>\n",
       "      <td>...</td>\n",
       "      <td>...</td>\n",
       "      <td>...</td>\n",
       "      <td>...</td>\n",
       "      <td>...</td>\n",
       "      <td>...</td>\n",
       "      <td>...</td>\n",
       "      <td>...</td>\n",
       "      <td>...</td>\n",
       "      <td>...</td>\n",
       "      <td>...</td>\n",
       "      <td>...</td>\n",
       "    </tr>\n",
       "    <tr>\n",
       "      <th>2015-02-22 12:01:00</th>\n",
       "      <td>681679794</td>\n",
       "      <td>False</td>\n",
       "      <td>finalized</td>\n",
       "      <td>3</td>\n",
       "      <td>2/25/15 19:46</td>\n",
       "      <td>positive</td>\n",
       "      <td>0.3487</td>\n",
       "      <td>NaN</td>\n",
       "      <td>0.0000</td>\n",
       "      <td>American</td>\n",
       "      <td>NaN</td>\n",
       "      <td>KristenReenders</td>\n",
       "      <td>NaN</td>\n",
       "      <td>0</td>\n",
       "      <td>@AmericanAir thank you we got on a different f...</td>\n",
       "      <td>NaN</td>\n",
       "      <td>5.695880e+17</td>\n",
       "      <td>NaN</td>\n",
       "      <td>NaN</td>\n",
       "    </tr>\n",
       "    <tr>\n",
       "      <th>2015-02-22 11:59:00</th>\n",
       "      <td>681679795</td>\n",
       "      <td>False</td>\n",
       "      <td>finalized</td>\n",
       "      <td>3</td>\n",
       "      <td>2/25/15 19:14</td>\n",
       "      <td>negative</td>\n",
       "      <td>1.0000</td>\n",
       "      <td>Customer Service Issue</td>\n",
       "      <td>1.0000</td>\n",
       "      <td>American</td>\n",
       "      <td>NaN</td>\n",
       "      <td>itsropes</td>\n",
       "      <td>NaN</td>\n",
       "      <td>0</td>\n",
       "      <td>@AmericanAir leaving over 20 minutes Late Flig...</td>\n",
       "      <td>NaN</td>\n",
       "      <td>5.695870e+17</td>\n",
       "      <td>Texas</td>\n",
       "      <td>NaN</td>\n",
       "    </tr>\n",
       "    <tr>\n",
       "      <th>2015-02-22 11:59:00</th>\n",
       "      <td>681679796</td>\n",
       "      <td>False</td>\n",
       "      <td>finalized</td>\n",
       "      <td>3</td>\n",
       "      <td>2/25/15 19:04</td>\n",
       "      <td>neutral</td>\n",
       "      <td>1.0000</td>\n",
       "      <td>NaN</td>\n",
       "      <td>NaN</td>\n",
       "      <td>American</td>\n",
       "      <td>NaN</td>\n",
       "      <td>sanyabun</td>\n",
       "      <td>NaN</td>\n",
       "      <td>0</td>\n",
       "      <td>@AmericanAir Please bring American Airlines to...</td>\n",
       "      <td>NaN</td>\n",
       "      <td>5.695870e+17</td>\n",
       "      <td>Nigeria,lagos</td>\n",
       "      <td>NaN</td>\n",
       "    </tr>\n",
       "    <tr>\n",
       "      <th>2015-02-22 11:59:00</th>\n",
       "      <td>681679797</td>\n",
       "      <td>False</td>\n",
       "      <td>finalized</td>\n",
       "      <td>3</td>\n",
       "      <td>2/25/15 18:59</td>\n",
       "      <td>negative</td>\n",
       "      <td>1.0000</td>\n",
       "      <td>Customer Service Issue</td>\n",
       "      <td>0.6659</td>\n",
       "      <td>American</td>\n",
       "      <td>NaN</td>\n",
       "      <td>SraJackson</td>\n",
       "      <td>NaN</td>\n",
       "      <td>0</td>\n",
       "      <td>@AmericanAir you have my money, you change my ...</td>\n",
       "      <td>NaN</td>\n",
       "      <td>5.695870e+17</td>\n",
       "      <td>New Jersey</td>\n",
       "      <td>Eastern Time (US &amp; Canada)</td>\n",
       "    </tr>\n",
       "    <tr>\n",
       "      <th>2015-02-22 11:58:00</th>\n",
       "      <td>681679798</td>\n",
       "      <td>False</td>\n",
       "      <td>finalized</td>\n",
       "      <td>3</td>\n",
       "      <td>2/25/15 19:06</td>\n",
       "      <td>neutral</td>\n",
       "      <td>0.6771</td>\n",
       "      <td>NaN</td>\n",
       "      <td>0.0000</td>\n",
       "      <td>American</td>\n",
       "      <td>NaN</td>\n",
       "      <td>daviddtwu</td>\n",
       "      <td>NaN</td>\n",
       "      <td>0</td>\n",
       "      <td>@AmericanAir we have 8 ppl so we need 2 know h...</td>\n",
       "      <td>NaN</td>\n",
       "      <td>5.695870e+17</td>\n",
       "      <td>dallas, TX</td>\n",
       "      <td>NaN</td>\n",
       "    </tr>\n",
       "  </tbody>\n",
       "</table>\n",
       "<p>14640 rows × 19 columns</p>\n",
       "</div>"
      ],
      "text/plain": [
       "                      _unit_id  _golden _unit_state  _trusted_judgments  \\\n",
       "Date                                                                      \n",
       "2015-02-24 11:35:00  681448150    False   finalized                   3   \n",
       "2015-02-24 11:15:00  681448153    False   finalized                   3   \n",
       "2015-02-24 11:15:00  681448156    False   finalized                   3   \n",
       "2015-02-24 11:15:00  681448158    False   finalized                   3   \n",
       "2015-02-24 11:14:00  681448159    False   finalized                   3   \n",
       "...                        ...      ...         ...                 ...   \n",
       "2015-02-22 12:01:00  681679794    False   finalized                   3   \n",
       "2015-02-22 11:59:00  681679795    False   finalized                   3   \n",
       "2015-02-22 11:59:00  681679796    False   finalized                   3   \n",
       "2015-02-22 11:59:00  681679797    False   finalized                   3   \n",
       "2015-02-22 11:58:00  681679798    False   finalized                   3   \n",
       "\n",
       "                    _last_judgment_at airline_sentiment  \\\n",
       "Date                                                      \n",
       "2015-02-24 11:35:00      2/25/15 5:24           neutral   \n",
       "2015-02-24 11:15:00      2/25/15 1:53          positive   \n",
       "2015-02-24 11:15:00     2/25/15 10:01           neutral   \n",
       "2015-02-24 11:15:00      2/25/15 3:05          negative   \n",
       "2015-02-24 11:14:00      2/25/15 5:50          negative   \n",
       "...                               ...               ...   \n",
       "2015-02-22 12:01:00     2/25/15 19:46          positive   \n",
       "2015-02-22 11:59:00     2/25/15 19:14          negative   \n",
       "2015-02-22 11:59:00     2/25/15 19:04           neutral   \n",
       "2015-02-22 11:59:00     2/25/15 18:59          negative   \n",
       "2015-02-22 11:58:00     2/25/15 19:06           neutral   \n",
       "\n",
       "                     airline_sentiment:confidence          negativereason  \\\n",
       "Date                                                                        \n",
       "2015-02-24 11:35:00                        1.0000                     NaN   \n",
       "2015-02-24 11:15:00                        0.3486                     NaN   \n",
       "2015-02-24 11:15:00                        0.6837                     NaN   \n",
       "2015-02-24 11:15:00                        1.0000              Bad Flight   \n",
       "2015-02-24 11:14:00                        1.0000              Can't Tell   \n",
       "...                                           ...                     ...   \n",
       "2015-02-22 12:01:00                        0.3487                     NaN   \n",
       "2015-02-22 11:59:00                        1.0000  Customer Service Issue   \n",
       "2015-02-22 11:59:00                        1.0000                     NaN   \n",
       "2015-02-22 11:59:00                        1.0000  Customer Service Issue   \n",
       "2015-02-22 11:58:00                        0.6771                     NaN   \n",
       "\n",
       "                     negativereason:confidence         airline  \\\n",
       "Date                                                             \n",
       "2015-02-24 11:35:00                        NaN  Virgin America   \n",
       "2015-02-24 11:15:00                     0.0000  Virgin America   \n",
       "2015-02-24 11:15:00                        NaN  Virgin America   \n",
       "2015-02-24 11:15:00                     0.7033  Virgin America   \n",
       "2015-02-24 11:14:00                     1.0000  Virgin America   \n",
       "...                                        ...             ...   \n",
       "2015-02-22 12:01:00                     0.0000        American   \n",
       "2015-02-22 11:59:00                     1.0000        American   \n",
       "2015-02-22 11:59:00                        NaN        American   \n",
       "2015-02-22 11:59:00                     0.6659        American   \n",
       "2015-02-22 11:58:00                     0.0000        American   \n",
       "\n",
       "                    airline_sentiment_gold             name  \\\n",
       "Date                                                          \n",
       "2015-02-24 11:35:00                    NaN          cairdin   \n",
       "2015-02-24 11:15:00                    NaN         jnardino   \n",
       "2015-02-24 11:15:00                    NaN       yvonnalynn   \n",
       "2015-02-24 11:15:00                    NaN         jnardino   \n",
       "2015-02-24 11:14:00                    NaN         jnardino   \n",
       "...                                    ...              ...   \n",
       "2015-02-22 12:01:00                    NaN  KristenReenders   \n",
       "2015-02-22 11:59:00                    NaN         itsropes   \n",
       "2015-02-22 11:59:00                    NaN         sanyabun   \n",
       "2015-02-22 11:59:00                    NaN       SraJackson   \n",
       "2015-02-22 11:58:00                    NaN        daviddtwu   \n",
       "\n",
       "                    negativereason_gold  retweet_count  \\\n",
       "Date                                                     \n",
       "2015-02-24 11:35:00                 NaN              0   \n",
       "2015-02-24 11:15:00                 NaN              0   \n",
       "2015-02-24 11:15:00                 NaN              0   \n",
       "2015-02-24 11:15:00                 NaN              0   \n",
       "2015-02-24 11:14:00                 NaN              0   \n",
       "...                                 ...            ...   \n",
       "2015-02-22 12:01:00                 NaN              0   \n",
       "2015-02-22 11:59:00                 NaN              0   \n",
       "2015-02-22 11:59:00                 NaN              0   \n",
       "2015-02-22 11:59:00                 NaN              0   \n",
       "2015-02-22 11:58:00                 NaN              0   \n",
       "\n",
       "                                                                  text  \\\n",
       "Date                                                                     \n",
       "2015-02-24 11:35:00                @VirginAmerica What @dhepburn said.   \n",
       "2015-02-24 11:15:00  @VirginAmerica plus you've added commercials t...   \n",
       "2015-02-24 11:15:00  @VirginAmerica I didn't today... Must mean I n...   \n",
       "2015-02-24 11:15:00  @VirginAmerica it's really aggressive to blast...   \n",
       "2015-02-24 11:14:00  @VirginAmerica and it's a really big bad thing...   \n",
       "...                                                                ...   \n",
       "2015-02-22 12:01:00  @AmericanAir thank you we got on a different f...   \n",
       "2015-02-22 11:59:00  @AmericanAir leaving over 20 minutes Late Flig...   \n",
       "2015-02-22 11:59:00  @AmericanAir Please bring American Airlines to...   \n",
       "2015-02-22 11:59:00  @AmericanAir you have my money, you change my ...   \n",
       "2015-02-22 11:58:00  @AmericanAir we have 8 ppl so we need 2 know h...   \n",
       "\n",
       "                    tweet_coord      tweet_id tweet_location  \\\n",
       "Date                                                           \n",
       "2015-02-24 11:35:00         NaN  5.703060e+17            NaN   \n",
       "2015-02-24 11:15:00         NaN  5.703010e+17            NaN   \n",
       "2015-02-24 11:15:00         NaN  5.703010e+17      Lets Play   \n",
       "2015-02-24 11:15:00         NaN  5.703010e+17            NaN   \n",
       "2015-02-24 11:14:00         NaN  5.703010e+17            NaN   \n",
       "...                         ...           ...            ...   \n",
       "2015-02-22 12:01:00         NaN  5.695880e+17            NaN   \n",
       "2015-02-22 11:59:00         NaN  5.695870e+17          Texas   \n",
       "2015-02-22 11:59:00         NaN  5.695870e+17  Nigeria,lagos   \n",
       "2015-02-22 11:59:00         NaN  5.695870e+17     New Jersey   \n",
       "2015-02-22 11:58:00         NaN  5.695870e+17     dallas, TX   \n",
       "\n",
       "                                  user_timezone  \n",
       "Date                                             \n",
       "2015-02-24 11:35:00  Eastern Time (US & Canada)  \n",
       "2015-02-24 11:15:00  Pacific Time (US & Canada)  \n",
       "2015-02-24 11:15:00  Central Time (US & Canada)  \n",
       "2015-02-24 11:15:00  Pacific Time (US & Canada)  \n",
       "2015-02-24 11:14:00  Pacific Time (US & Canada)  \n",
       "...                                         ...  \n",
       "2015-02-22 12:01:00                         NaN  \n",
       "2015-02-22 11:59:00                         NaN  \n",
       "2015-02-22 11:59:00                         NaN  \n",
       "2015-02-22 11:59:00  Eastern Time (US & Canada)  \n",
       "2015-02-22 11:58:00                         NaN  \n",
       "\n",
       "[14640 rows x 19 columns]"
      ]
     },
     "execution_count": 118,
     "metadata": {},
     "output_type": "execute_result"
    }
   ],
   "source": [
    "a.loc['2015-02']"
   ]
  },
  {
   "cell_type": "code",
   "execution_count": 119,
   "metadata": {},
   "outputs": [
    {
     "data": {
      "text/plain": [
       "Timestamp('1966-11-02 00:00:00')"
      ]
     },
     "execution_count": 119,
     "metadata": {},
     "output_type": "execute_result"
    }
   ],
   "source": [
    "# Further we can add or subtract date \n",
    "dte_1 = pd.to_datetime('02/11/1996', format = '%d/%m/%Y')\n",
    "dte_1 + pd.DateOffset( years = -30 )"
   ]
  },
  {
   "cell_type": "markdown",
   "metadata": {},
   "source": [
    "### Map / Apply / Applymap\n",
    "* The basic idea for these functions is to apply looping constraints to rows/columns without writing any loop"
   ]
  },
  {
   "cell_type": "code",
   "execution_count": 120,
   "metadata": {},
   "outputs": [],
   "source": [
    "def sq(x):\n",
    "    return x**2"
   ]
  },
  {
   "cell_type": "code",
   "execution_count": 121,
   "metadata": {},
   "outputs": [
    {
     "ename": "TypeError",
     "evalue": "unsupported operand type(s) for ** or pow(): 'list' and 'int'",
     "output_type": "error",
     "traceback": [
      "\u001b[1;31m---------------------------------------------------------------------------\u001b[0m",
      "\u001b[1;31mTypeError\u001b[0m                                 Traceback (most recent call last)",
      "\u001b[1;32m<ipython-input-121-4d7745f4f226>\u001b[0m in \u001b[0;36m<module>\u001b[1;34m\u001b[0m\n\u001b[0;32m      1\u001b[0m \u001b[0ml1\u001b[0m \u001b[1;33m=\u001b[0m \u001b[1;33m[\u001b[0m\u001b[1;36m1\u001b[0m\u001b[1;33m,\u001b[0m\u001b[1;36m4\u001b[0m\u001b[1;33m,\u001b[0m\u001b[1;36m6\u001b[0m\u001b[1;33m,\u001b[0m\u001b[1;36m8\u001b[0m\u001b[1;33m,\u001b[0m\u001b[1;36m9\u001b[0m\u001b[1;33m,\u001b[0m\u001b[1;36m23\u001b[0m\u001b[1;33m]\u001b[0m\u001b[1;33m\u001b[0m\u001b[1;33m\u001b[0m\u001b[0m\n\u001b[1;32m----> 2\u001b[1;33m \u001b[0msq\u001b[0m\u001b[1;33m(\u001b[0m\u001b[0ml1\u001b[0m\u001b[1;33m)\u001b[0m\u001b[1;33m\u001b[0m\u001b[1;33m\u001b[0m\u001b[0m\n\u001b[0m",
      "\u001b[1;32m<ipython-input-120-4e4e9ff81928>\u001b[0m in \u001b[0;36msq\u001b[1;34m(x)\u001b[0m\n\u001b[0;32m      1\u001b[0m \u001b[1;32mdef\u001b[0m \u001b[0msq\u001b[0m\u001b[1;33m(\u001b[0m\u001b[0mx\u001b[0m\u001b[1;33m)\u001b[0m\u001b[1;33m:\u001b[0m\u001b[1;33m\u001b[0m\u001b[1;33m\u001b[0m\u001b[0m\n\u001b[1;32m----> 2\u001b[1;33m     \u001b[1;32mreturn\u001b[0m \u001b[0mx\u001b[0m\u001b[1;33m**\u001b[0m\u001b[1;36m2\u001b[0m\u001b[1;33m\u001b[0m\u001b[1;33m\u001b[0m\u001b[0m\n\u001b[0m",
      "\u001b[1;31mTypeError\u001b[0m: unsupported operand type(s) for ** or pow(): 'list' and 'int'"
     ]
    }
   ],
   "source": [
    "l1 = [1,4,6,8,9,23]\n",
    "sq(l1)"
   ]
  },
  {
   "cell_type": "code",
   "execution_count": 122,
   "metadata": {},
   "outputs": [
    {
     "name": "stdout",
     "output_type": "stream",
     "text": [
      "1\n",
      "16\n",
      "36\n",
      "64\n",
      "81\n",
      "529\n"
     ]
    }
   ],
   "source": [
    "for i in l1:\n",
    "    print(i**2)"
   ]
  },
  {
   "cell_type": "code",
   "execution_count": 123,
   "metadata": {},
   "outputs": [
    {
     "data": {
      "text/plain": [
       "[1, 16, 36, 64, 81, 529]"
      ]
     },
     "execution_count": 123,
     "metadata": {},
     "output_type": "execute_result"
    }
   ],
   "source": [
    "# map is used to apply a function of 1-D object\n",
    "n_list= list(map(sq,l1))\n",
    "n_list"
   ]
  },
  {
   "cell_type": "code",
   "execution_count": 124,
   "metadata": {},
   "outputs": [
    {
     "data": {
      "text/plain": [
       "0        FINALIZED\n",
       "1        FINALIZED\n",
       "2        FINALIZED\n",
       "3        FINALIZED\n",
       "4        FINALIZED\n",
       "           ...    \n",
       "14635    FINALIZED\n",
       "14636    FINALIZED\n",
       "14637    FINALIZED\n",
       "14638    FINALIZED\n",
       "14639    FINALIZED\n",
       "Length: 14640, dtype: object"
      ]
     },
     "execution_count": 124,
     "metadata": {},
     "output_type": "execute_result"
    }
   ],
   "source": [
    "pd.Series(map(lambda x:x.upper(),a._unit_state))"
   ]
  },
  {
   "cell_type": "code",
   "execution_count": 125,
   "metadata": {},
   "outputs": [
    {
     "data": {
      "text/html": [
       "<div>\n",
       "<style scoped>\n",
       "    .dataframe tbody tr th:only-of-type {\n",
       "        vertical-align: middle;\n",
       "    }\n",
       "\n",
       "    .dataframe tbody tr th {\n",
       "        vertical-align: top;\n",
       "    }\n",
       "\n",
       "    .dataframe thead th {\n",
       "        text-align: right;\n",
       "    }\n",
       "</style>\n",
       "<table border=\"1\" class=\"dataframe\">\n",
       "  <thead>\n",
       "    <tr style=\"text-align: right;\">\n",
       "      <th></th>\n",
       "      <th>name</th>\n",
       "      <th>text</th>\n",
       "    </tr>\n",
       "    <tr>\n",
       "      <th>Date</th>\n",
       "      <th></th>\n",
       "      <th></th>\n",
       "    </tr>\n",
       "  </thead>\n",
       "  <tbody>\n",
       "    <tr>\n",
       "      <th>2015-02-24 11:35:00</th>\n",
       "      <td>CAIRDIN</td>\n",
       "      <td>@VIRGINAMERICA WHAT @DHEPBURN SAID.</td>\n",
       "    </tr>\n",
       "    <tr>\n",
       "      <th>2015-02-24 11:15:00</th>\n",
       "      <td>JNARDINO</td>\n",
       "      <td>@VIRGINAMERICA PLUS YOU'VE ADDED COMMERCIALS T...</td>\n",
       "    </tr>\n",
       "    <tr>\n",
       "      <th>2015-02-24 11:15:00</th>\n",
       "      <td>YVONNALYNN</td>\n",
       "      <td>@VIRGINAMERICA I DIDN'T TODAY... MUST MEAN I N...</td>\n",
       "    </tr>\n",
       "    <tr>\n",
       "      <th>2015-02-24 11:15:00</th>\n",
       "      <td>JNARDINO</td>\n",
       "      <td>@VIRGINAMERICA IT'S REALLY AGGRESSIVE TO BLAST...</td>\n",
       "    </tr>\n",
       "    <tr>\n",
       "      <th>2015-02-24 11:14:00</th>\n",
       "      <td>JNARDINO</td>\n",
       "      <td>@VIRGINAMERICA AND IT'S A REALLY BIG BAD THING...</td>\n",
       "    </tr>\n",
       "    <tr>\n",
       "      <th>...</th>\n",
       "      <td>...</td>\n",
       "      <td>...</td>\n",
       "    </tr>\n",
       "    <tr>\n",
       "      <th>2015-02-22 12:01:00</th>\n",
       "      <td>KRISTENREENDERS</td>\n",
       "      <td>@AMERICANAIR THANK YOU WE GOT ON A DIFFERENT F...</td>\n",
       "    </tr>\n",
       "    <tr>\n",
       "      <th>2015-02-22 11:59:00</th>\n",
       "      <td>ITSROPES</td>\n",
       "      <td>@AMERICANAIR LEAVING OVER 20 MINUTES LATE FLIG...</td>\n",
       "    </tr>\n",
       "    <tr>\n",
       "      <th>2015-02-22 11:59:00</th>\n",
       "      <td>SANYABUN</td>\n",
       "      <td>@AMERICANAIR PLEASE BRING AMERICAN AIRLINES TO...</td>\n",
       "    </tr>\n",
       "    <tr>\n",
       "      <th>2015-02-22 11:59:00</th>\n",
       "      <td>SRAJACKSON</td>\n",
       "      <td>@AMERICANAIR YOU HAVE MY MONEY, YOU CHANGE MY ...</td>\n",
       "    </tr>\n",
       "    <tr>\n",
       "      <th>2015-02-22 11:58:00</th>\n",
       "      <td>DAVIDDTWU</td>\n",
       "      <td>@AMERICANAIR WE HAVE 8 PPL SO WE NEED 2 KNOW H...</td>\n",
       "    </tr>\n",
       "  </tbody>\n",
       "</table>\n",
       "<p>14640 rows × 2 columns</p>\n",
       "</div>"
      ],
      "text/plain": [
       "                                name  \\\n",
       "Date                                   \n",
       "2015-02-24 11:35:00          CAIRDIN   \n",
       "2015-02-24 11:15:00         JNARDINO   \n",
       "2015-02-24 11:15:00       YVONNALYNN   \n",
       "2015-02-24 11:15:00         JNARDINO   \n",
       "2015-02-24 11:14:00         JNARDINO   \n",
       "...                              ...   \n",
       "2015-02-22 12:01:00  KRISTENREENDERS   \n",
       "2015-02-22 11:59:00         ITSROPES   \n",
       "2015-02-22 11:59:00         SANYABUN   \n",
       "2015-02-22 11:59:00       SRAJACKSON   \n",
       "2015-02-22 11:58:00        DAVIDDTWU   \n",
       "\n",
       "                                                                  text  \n",
       "Date                                                                    \n",
       "2015-02-24 11:35:00                @VIRGINAMERICA WHAT @DHEPBURN SAID.  \n",
       "2015-02-24 11:15:00  @VIRGINAMERICA PLUS YOU'VE ADDED COMMERCIALS T...  \n",
       "2015-02-24 11:15:00  @VIRGINAMERICA I DIDN'T TODAY... MUST MEAN I N...  \n",
       "2015-02-24 11:15:00  @VIRGINAMERICA IT'S REALLY AGGRESSIVE TO BLAST...  \n",
       "2015-02-24 11:14:00  @VIRGINAMERICA AND IT'S A REALLY BIG BAD THING...  \n",
       "...                                                                ...  \n",
       "2015-02-22 12:01:00  @AMERICANAIR THANK YOU WE GOT ON A DIFFERENT F...  \n",
       "2015-02-22 11:59:00  @AMERICANAIR LEAVING OVER 20 MINUTES LATE FLIG...  \n",
       "2015-02-22 11:59:00  @AMERICANAIR PLEASE BRING AMERICAN AIRLINES TO...  \n",
       "2015-02-22 11:59:00  @AMERICANAIR YOU HAVE MY MONEY, YOU CHANGE MY ...  \n",
       "2015-02-22 11:58:00  @AMERICANAIR WE HAVE 8 PPL SO WE NEED 2 KNOW H...  \n",
       "\n",
       "[14640 rows x 2 columns]"
      ]
     },
     "execution_count": 125,
     "metadata": {},
     "output_type": "execute_result"
    }
   ],
   "source": [
    "# applymap is used to apply function on multiple columns\n",
    "a[['name','text']].applymap(lambda x:x.upper())"
   ]
  },
  {
   "cell_type": "code",
   "execution_count": 126,
   "metadata": {},
   "outputs": [],
   "source": [
    "# apply function is used to apply particular function to column's, and can be used as an alternate for map"
   ]
  },
  {
   "cell_type": "code",
   "execution_count": 127,
   "metadata": {},
   "outputs": [
    {
     "data": {
      "text/plain": [
       "Date\n",
       "2015-02-24 11:35:00    FINALIZED\n",
       "2015-02-24 11:15:00    FINALIZED\n",
       "2015-02-24 11:15:00    FINALIZED\n",
       "2015-02-24 11:15:00    FINALIZED\n",
       "2015-02-24 11:14:00    FINALIZED\n",
       "                         ...    \n",
       "2015-02-22 12:01:00    FINALIZED\n",
       "2015-02-22 11:59:00    FINALIZED\n",
       "2015-02-22 11:59:00    FINALIZED\n",
       "2015-02-22 11:59:00    FINALIZED\n",
       "2015-02-22 11:58:00    FINALIZED\n",
       "Name: _unit_state, Length: 14640, dtype: object"
      ]
     },
     "execution_count": 127,
     "metadata": {},
     "output_type": "execute_result"
    }
   ],
   "source": [
    "a._unit_state.apply(lambda x:x.upper())"
   ]
  },
  {
   "cell_type": "code",
   "execution_count": 128,
   "metadata": {},
   "outputs": [],
   "source": [
    "# A complex problem\n",
    "# find the total return value for each year and each segment for sample super store dataset"
   ]
  },
  {
   "cell_type": "code",
   "execution_count": 129,
   "metadata": {},
   "outputs": [],
   "source": [
    "Orders = pd.read_excel(\"Superstore Sales.xlsx\",sheet_name=0)\n",
    "Returns = pd.read_excel(\"Superstore Sales.xlsx\",sheet_name=1)\n",
    "People = pd.read_excel(\"Superstore Sales.xlsx\",sheet_name=2)"
   ]
  },
  {
   "cell_type": "code",
   "execution_count": 130,
   "metadata": {},
   "outputs": [],
   "source": [
    "Orders[\"Year\"] = Orders.loc[:,\"Ship Date\"].apply(lambda x:x.year)"
   ]
  },
  {
   "cell_type": "code",
   "execution_count": 131,
   "metadata": {},
   "outputs": [],
   "source": [
    "final = pd.merge(left=Orders,right=Returns,left_on=\"Order ID\",right_on=\"Order ID\",indicator = True)"
   ]
  },
  {
   "cell_type": "code",
   "execution_count": 132,
   "metadata": {},
   "outputs": [
    {
     "data": {
      "text/plain": [
       "Year  Segment    \n",
       "2011  Consumer        74751.36086\n",
       "      Corporate       59478.09236\n",
       "      Home Office     16529.06700\n",
       "2012  Consumer       103169.78838\n",
       "      Corporate       52440.43386\n",
       "      Home Office     22127.51636\n",
       "2013  Consumer        93089.87934\n",
       "      Corporate       60797.98910\n",
       "      Home Office     38239.71914\n",
       "2014  Consumer       144151.42180\n",
       "      Corporate       98003.06858\n",
       "      Home Office     56120.18980\n",
       "2015  Consumer          835.22880\n",
       "      Corporate          34.62400\n",
       "Name: Sales, dtype: float64"
      ]
     },
     "execution_count": 132,
     "metadata": {},
     "output_type": "execute_result"
    }
   ],
   "source": [
    "final.groupby([\"Year\",\"Segment\"]).Sales.sum().T"
   ]
  }
 ],
 "metadata": {
  "kernelspec": {
   "display_name": "Python 3",
   "language": "python",
   "name": "python3"
  },
  "language_info": {
   "codemirror_mode": {
    "name": "ipython",
    "version": 3
   },
   "file_extension": ".py",
   "mimetype": "text/x-python",
   "name": "python",
   "nbconvert_exporter": "python",
   "pygments_lexer": "ipython3",
   "version": "3.8.3"
  }
 },
 "nbformat": 4,
 "nbformat_minor": 4
}
