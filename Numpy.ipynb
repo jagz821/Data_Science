{
 "cells": [
  {
   "cell_type": "markdown",
   "metadata": {},
   "source": [
    "### NumPy - Numerical Python \n",
    "* Developed in 2006, it’s used in many domains where high dimensional arrays are used like Scientific Computing, Deep learning, Financial Data etc. In Python as data can come from various sources and can be in various formats it can be image data, text data etc. and is heterogeneous in nature. To make the data readable we have to think it as an array of numbers, an image is an array of numbers with numbers ranging from 0 to 255 .\n",
    "* Now Python has only 4 basic data types and to think of data as an array we need to store it and manipulate it and that is the reason why Numpy came into Picture.\n",
    "* NumPy can efficiently store n-d arrays in vectorised form and benefit from DRAM technology. NumPy provides a functionality to store n-d arrays in files and load them in the same manner. NumPy avoids costly type-checking as NumPy arrays are homogeneous in nature."
   ]
  },
  {
   "cell_type": "markdown",
   "metadata": {},
   "source": [
    "#### Why NumPy "
   ]
  },
  {
   "cell_type": "code",
   "execution_count": 1,
   "metadata": {},
   "outputs": [],
   "source": [
    "# Initialize the N\n",
    "N = 10000000"
   ]
  },
  {
   "cell_type": "code",
   "execution_count": 6,
   "metadata": {},
   "outputs": [
    {
     "name": "stdout",
     "output_type": "stream",
     "text": [
      "Wall time: 2.39 s\n"
     ]
    }
   ],
   "source": [
    "%%time\n",
    "l1 = list(range(N))# Making a list with N values then squaring each term and saving it in the same list and timing the whole process\n",
    "for i in range(N):\n",
    "    l1[i] = l1[i]*l1[i]\n"
   ]
  },
  {
   "cell_type": "code",
   "execution_count": 7,
   "metadata": {},
   "outputs": [
    {
     "name": "stdout",
     "output_type": "stream",
     "text": [
      "Wall time: 1.02 s\n"
     ]
    }
   ],
   "source": [
    "%%time\n",
    "l1 = list(range(N))\n",
    "l1 = [i*i for i in l1] # same task with list comprehension"
   ]
  },
  {
   "cell_type": "code",
   "execution_count": 8,
   "metadata": {},
   "outputs": [
    {
     "name": "stdout",
     "output_type": "stream",
     "text": [
      "Wall time: 257 ms\n"
     ]
    }
   ],
   "source": [
    "%%time\n",
    "l1 = list(range(N))\n",
    "l1 = map(lambda x:x*x,l1) # Using Lambda Functions"
   ]
  },
  {
   "cell_type": "code",
   "execution_count": 10,
   "metadata": {},
   "outputs": [
    {
     "data": {
      "text/plain": [
       "'1.20.3'"
      ]
     },
     "execution_count": 10,
     "metadata": {},
     "output_type": "execute_result"
    }
   ],
   "source": [
    "#To use numpy we have to import it from our anaconda stack where we will get it pre installed\n",
    "import numpy as np\n",
    "np.__version__"
   ]
  },
  {
   "cell_type": "code",
   "execution_count": 11,
   "metadata": {},
   "outputs": [
    {
     "name": "stdout",
     "output_type": "stream",
     "text": [
      "Wall time: 26.9 ms\n"
     ]
    }
   ],
   "source": [
    "%%time\n",
    "array_1 = np.arange(N) #using NumPy arrays for the same task\n",
    "array_1 = array_1*array_1"
   ]
  },
  {
   "cell_type": "markdown",
   "metadata": {},
   "source": [
    "From the above example we can see that while using list of lists as array is an expensive task. Typechecking and inefficient use of memory take more time and power. However with some changes in the software we can increase the speed. But that's not sufficient in case of high dimensional arrays. With NumPy array we saw a significant decrease in time. Hence NumPy provides Python with array oriented programming."
   ]
  },
  {
   "cell_type": "markdown",
   "metadata": {},
   "source": [
    "#### How Numpy"
   ]
  },
  {
   "cell_type": "markdown",
   "metadata": {},
   "source": [
    "##### Creating Arrays  "
   ]
  },
  {
   "cell_type": "code",
   "execution_count": 12,
   "metadata": {},
   "outputs": [
    {
     "data": {
      "text/plain": [
       "array([1, 2, 3, 4, 5])"
      ]
     },
     "execution_count": 12,
     "metadata": {},
     "output_type": "execute_result"
    }
   ],
   "source": [
    "# Creating one dimensional numpy Arrays from list\n",
    "a1 = np.array([1,2,3,4,5])\n",
    "a1"
   ]
  },
  {
   "cell_type": "markdown",
   "metadata": {},
   "source": [
    "##### Numpy arrays are homogeneous "
   ]
  },
  {
   "cell_type": "code",
   "execution_count": 13,
   "metadata": {},
   "outputs": [
    {
     "data": {
      "text/plain": [
       "array([1., 2., 3., 4., 5.])"
      ]
     },
     "execution_count": 13,
     "metadata": {},
     "output_type": "execute_result"
    }
   ],
   "source": [
    "# Remeber Python list are heterogeneous but numpy arrays are homogeneous and the data type is same and if it is not same then \n",
    "# numpy will upcast them to same data type\n",
    "a2 = np.array([1,2,3,4,5.])\n",
    "a2"
   ]
  },
  {
   "cell_type": "code",
   "execution_count": 14,
   "metadata": {},
   "outputs": [
    {
     "data": {
      "text/plain": [
       "array([10., 15., 20., 35., 40., 60.], dtype=float32)"
      ]
     },
     "execution_count": 14,
     "metadata": {},
     "output_type": "execute_result"
    }
   ],
   "source": [
    "# Or we can predefine the data type\n",
    "a3 = np.array([10,15,20,35,40,60.0],dtype = \"float32\")\n",
    "a3"
   ]
  },
  {
   "cell_type": "code",
   "execution_count": 15,
   "metadata": {},
   "outputs": [
    {
     "data": {
      "text/plain": [
       "numpy.ndarray"
      ]
     },
     "execution_count": 15,
     "metadata": {},
     "output_type": "execute_result"
    }
   ],
   "source": [
    "# Numpy arrays are N-Dimensional arrays here n = 1 i.e. One dimensional \n",
    "type(a3)"
   ]
  },
  {
   "cell_type": "code",
   "execution_count": 16,
   "metadata": {},
   "outputs": [
    {
     "data": {
      "text/plain": [
       "(6,)"
      ]
     },
     "execution_count": 16,
     "metadata": {},
     "output_type": "execute_result"
    }
   ],
   "source": [
    "# shape of the array\n",
    "a3.shape"
   ]
  },
  {
   "cell_type": "code",
   "execution_count": 17,
   "metadata": {},
   "outputs": [
    {
     "data": {
      "text/plain": [
       "array([[0, 1, 2],\n",
       "       [3, 4, 5]])"
      ]
     },
     "execution_count": 17,
     "metadata": {},
     "output_type": "execute_result"
    }
   ],
   "source": [
    "# 2D-Array\n",
    "a4 = np.array([[0,1,2],[3,4,5]]) # we can see here 2 brackets hence it is a 2D-array (Intiution based)\n",
    "a4"
   ]
  },
  {
   "cell_type": "code",
   "execution_count": 18,
   "metadata": {},
   "outputs": [
    {
     "data": {
      "text/plain": [
       "(2, 3)"
      ]
     },
     "execution_count": 18,
     "metadata": {},
     "output_type": "execute_result"
    }
   ],
   "source": [
    "# it has 2 rows that has 3 elements each\n",
    "a4.shape "
   ]
  },
  {
   "cell_type": "code",
   "execution_count": 19,
   "metadata": {},
   "outputs": [
    {
     "data": {
      "text/plain": [
       "array([[[ 0,  1,  2],\n",
       "        [ 3,  4,  5]],\n",
       "\n",
       "       [[ 5,  6,  7],\n",
       "        [ 8,  9, 10]]])"
      ]
     },
     "execution_count": 19,
     "metadata": {},
     "output_type": "execute_result"
    }
   ],
   "source": [
    "# 3D- Array\n",
    "a5 = np.array([[[0,1,2],[3,4,5]], [[5,6,7],[8,9,10]]])\n",
    "a5"
   ]
  },
  {
   "cell_type": "code",
   "execution_count": 20,
   "metadata": {},
   "outputs": [
    {
     "data": {
      "text/plain": [
       "(2, 2, 3)"
      ]
     },
     "execution_count": 20,
     "metadata": {},
     "output_type": "execute_result"
    }
   ],
   "source": [
    "# it has 3 dimensions where on the first plane we have [[0,1,2],[3,4,5]] and on the other plane we have [[5,6,7],[8,9,10]]\n",
    "a5.shape"
   ]
  },
  {
   "cell_type": "markdown",
   "metadata": {},
   "source": [
    "##### Notes\n",
    "\n",
    "* One Dimensional arrays are called Vectors.\n",
    "* Two Dimensional arrays are called Matrix.\n",
    "* N Dimensional arrays are called Tensors.\n",
    "* In arrays terminology we index the dimensions from backward. In our case of 3-D array we have:<br>\n",
    "1) 2 as our dimension 0 that contain plane-1 and plane-2 (plane behind plane-1).<br>\n",
    "2) 2 as our dimension 1 that contains 2 different rows on each plane.<br>\n",
    "3) 3 as our dimension 0 that have a total of 3 elements each.\n",
    " "
   ]
  },
  {
   "cell_type": "markdown",
   "metadata": {},
   "source": [
    "##### Creating Arrays  with Inbuilt Functions."
   ]
  },
  {
   "cell_type": "code",
   "execution_count": 21,
   "metadata": {},
   "outputs": [
    {
     "data": {
      "text/plain": [
       "array([0, 0, 0, 0, 0, 0, 0, 0, 0, 0])"
      ]
     },
     "execution_count": 21,
     "metadata": {},
     "output_type": "execute_result"
    }
   ],
   "source": [
    "# we can create numpy arrays filled with zeroes\n",
    "np.zeros(10,dtype = \"int\")"
   ]
  },
  {
   "cell_type": "code",
   "execution_count": 22,
   "metadata": {},
   "outputs": [
    {
     "data": {
      "text/plain": [
       "array([[1, 1, 1, 1, 1],\n",
       "       [1, 1, 1, 1, 1],\n",
       "       [1, 1, 1, 1, 1]])"
      ]
     },
     "execution_count": 22,
     "metadata": {},
     "output_type": "execute_result"
    }
   ],
   "source": [
    "# we can create 2-D arrays all filled with ones\n",
    "np.ones((3,5),dtype=\"int\")"
   ]
  },
  {
   "cell_type": "code",
   "execution_count": 23,
   "metadata": {},
   "outputs": [
    {
     "data": {
      "text/plain": [
       "array([[[21, 21, 21, 21, 21],\n",
       "        [21, 21, 21, 21, 21],\n",
       "        [21, 21, 21, 21, 21],\n",
       "        [21, 21, 21, 21, 21]],\n",
       "\n",
       "       [[21, 21, 21, 21, 21],\n",
       "        [21, 21, 21, 21, 21],\n",
       "        [21, 21, 21, 21, 21],\n",
       "        [21, 21, 21, 21, 21]],\n",
       "\n",
       "       [[21, 21, 21, 21, 21],\n",
       "        [21, 21, 21, 21, 21],\n",
       "        [21, 21, 21, 21, 21],\n",
       "        [21, 21, 21, 21, 21]]])"
      ]
     },
     "execution_count": 23,
     "metadata": {},
     "output_type": "execute_result"
    }
   ],
   "source": [
    "# we can create 3-D arrays filled with some values\n",
    "np.full((3,4,5),21)"
   ]
  },
  {
   "cell_type": "code",
   "execution_count": 24,
   "metadata": {},
   "outputs": [
    {
     "data": {
      "text/plain": [
       "array([ 0. ,  1.2,  2.4,  3.6,  4.8,  6. ,  7.2,  8.4,  9.6, 10.8, 12. ,\n",
       "       13.2, 14.4, 15.6, 16.8, 18. , 19.2, 20.4, 21.6, 22.8, 24. , 25.2,\n",
       "       26.4, 27.6, 28.8, 30. , 31.2, 32.4, 33.6, 34.8, 36. , 37.2, 38.4,\n",
       "       39.6])"
      ]
     },
     "execution_count": 24,
     "metadata": {},
     "output_type": "execute_result"
    }
   ],
   "source": [
    "# we can create an array with equally spaced values between given range and it will go from 0 to n-1 and we can give step size \n",
    "# in decimals too.\n",
    "np.arange(0,40,1.2)"
   ]
  },
  {
   "cell_type": "code",
   "execution_count": 25,
   "metadata": {},
   "outputs": [
    {
     "data": {
      "text/plain": [
       "array([ 0.        ,  1.02564103,  2.05128205,  3.07692308,  4.1025641 ,\n",
       "        5.12820513,  6.15384615,  7.17948718,  8.20512821,  9.23076923,\n",
       "       10.25641026, 11.28205128, 12.30769231, 13.33333333, 14.35897436,\n",
       "       15.38461538, 16.41025641, 17.43589744, 18.46153846, 19.48717949,\n",
       "       20.51282051, 21.53846154, 22.56410256, 23.58974359, 24.61538462,\n",
       "       25.64102564, 26.66666667, 27.69230769, 28.71794872, 29.74358974,\n",
       "       30.76923077, 31.79487179, 32.82051282, 33.84615385, 34.87179487,\n",
       "       35.8974359 , 36.92307692, 37.94871795, 38.97435897, 40.        ])"
      ]
     },
     "execution_count": 25,
     "metadata": {},
     "output_type": "execute_result"
    }
   ],
   "source": [
    "# Linspace will go from 0 to n and will create equally spaced number between start and end and number can be anything whether we\n",
    "# want 100 numbers the spacing between them would be same\n",
    "np.linspace(0,40,40)"
   ]
  },
  {
   "cell_type": "code",
   "execution_count": 26,
   "metadata": {},
   "outputs": [
    {
     "data": {
      "text/plain": [
       "array([[1., 0., 0.],\n",
       "       [0., 1., 0.],\n",
       "       [0., 0., 1.]])"
      ]
     },
     "execution_count": 26,
     "metadata": {},
     "output_type": "execute_result"
    }
   ],
   "source": [
    "# we can also create an identity matrix\n",
    "np.identity(3)"
   ]
  },
  {
   "cell_type": "code",
   "execution_count": 27,
   "metadata": {},
   "outputs": [
    {
     "data": {
      "text/plain": [
       "array([[0.09385841, 0.50217454, 0.52971145],\n",
       "       [0.86779741, 0.48556615, 0.1200499 ]])"
      ]
     },
     "execution_count": 27,
     "metadata": {},
     "output_type": "execute_result"
    }
   ],
   "source": [
    "# Will generate random numbers between 0 and 1\n",
    "# random variables are geenrally used to stimulate a event or generate some random variable to play with.\n",
    "np.random.random((2,3))"
   ]
  },
  {
   "cell_type": "code",
   "execution_count": 28,
   "metadata": {},
   "outputs": [
    {
     "data": {
      "text/plain": [
       "array([[7, 1, 7],\n",
       "       [0, 5, 5],\n",
       "       [3, 1, 3]])"
      ]
     },
     "execution_count": 28,
     "metadata": {},
     "output_type": "execute_result"
    }
   ],
   "source": [
    "# will generate random numbers between the given range\n",
    "a6= np.random.randint(0,10,(3,3))\n",
    "a6"
   ]
  },
  {
   "cell_type": "code",
   "execution_count": 29,
   "metadata": {},
   "outputs": [
    {
     "data": {
      "text/plain": [
       "array([[ 1.47252549, -0.7760884 , -0.22621421, -0.01754808, -1.72558332],\n",
       "       [ 0.49538172, -1.31817645, -0.1720082 ,  0.04800515,  1.81916895],\n",
       "       [ 1.80525076, -0.20005571, -0.39811051,  0.21103552, -0.20370036],\n",
       "       [ 1.19429692,  0.276467  ,  1.73292745,  0.20826862, -0.80917563]])"
      ]
     },
     "execution_count": 29,
     "metadata": {},
     "output_type": "execute_result"
    }
   ],
   "source": [
    "np.random.randn(4,5) # A series of number generated from normal distribution where mean = 0 and variance = 1"
   ]
  },
  {
   "cell_type": "code",
   "execution_count": 30,
   "metadata": {},
   "outputs": [
    {
     "data": {
      "text/plain": [
       "array([[0.67865581, 0.22409827, 0.2391382 , 0.58158776],\n",
       "       [0.28764747, 0.5154386 , 0.3899557 , 0.54886044],\n",
       "       [0.17234211, 0.39508373, 0.22776309, 0.80476116]])"
      ]
     },
     "execution_count": 30,
     "metadata": {},
     "output_type": "execute_result"
    }
   ],
   "source": [
    "np.random.rand(3,4) # Uniformly sampled numbers from 0-1. "
   ]
  },
  {
   "cell_type": "markdown",
   "metadata": {},
   "source": [
    "##### Retrieve data from Arrays"
   ]
  },
  {
   "cell_type": "code",
   "execution_count": 31,
   "metadata": {},
   "outputs": [
    {
     "data": {
      "text/plain": [
       "array([[[ 0,  1,  2],\n",
       "        [ 3,  4,  5]],\n",
       "\n",
       "       [[ 5,  6,  7],\n",
       "        [ 8,  9, 10]]])"
      ]
     },
     "execution_count": 31,
     "metadata": {},
     "output_type": "execute_result"
    }
   ],
   "source": [
    "a5"
   ]
  },
  {
   "cell_type": "code",
   "execution_count": 32,
   "metadata": {},
   "outputs": [
    {
     "data": {
      "text/plain": [
       "0"
      ]
     },
     "execution_count": 32,
     "metadata": {},
     "output_type": "execute_result"
    }
   ],
   "source": [
    "# we can access elements using square brackets[row,column] ,like we did in python\n",
    "a5[0,0,0]"
   ]
  },
  {
   "cell_type": "code",
   "execution_count": 33,
   "metadata": {},
   "outputs": [
    {
     "data": {
      "text/plain": [
       "array([[[ 0,  1,  2],\n",
       "        [ 3,  4,  5]],\n",
       "\n",
       "       [[ 5,  6,  7],\n",
       "        [ 8,  9, 10]]])"
      ]
     },
     "execution_count": 33,
     "metadata": {},
     "output_type": "execute_result"
    }
   ],
   "source": [
    "# for thw whole array. In between we can slice data to get the other elements\n",
    "a5[:,:]"
   ]
  },
  {
   "cell_type": "code",
   "execution_count": 34,
   "metadata": {},
   "outputs": [
    {
     "data": {
      "text/plain": [
       "2"
      ]
     },
     "execution_count": 34,
     "metadata": {},
     "output_type": "execute_result"
    }
   ],
   "source": [
    "# to get the value from first axis\n",
    "# here as we can see that we can get the value 2 i.e, from row 0 get the last element\n",
    "a5[0,0,2]# 0 - means plane-1 [[ 0,  1,  2], [ 3,  4,  5]], next 0 - first row and 2 for element at location."
   ]
  },
  {
   "cell_type": "markdown",
   "metadata": {},
   "source": [
    "##### Slicing "
   ]
  },
  {
   "cell_type": "code",
   "execution_count": 35,
   "metadata": {},
   "outputs": [
    {
     "data": {
      "text/plain": [
       "array([[ 6,  7],\n",
       "       [ 9, 10]])"
      ]
     },
     "execution_count": 35,
     "metadata": {},
     "output_type": "execute_result"
    }
   ],
   "source": [
    "# Get the matrix [[6,7],[9,10]] - Slice the data\n",
    "a5[1, 0:3, 1:3]"
   ]
  },
  {
   "cell_type": "code",
   "execution_count": 36,
   "metadata": {},
   "outputs": [
    {
     "data": {
      "text/plain": [
       "array([[ 3,  4,  5],\n",
       "       [ 8,  9, 10]])"
      ]
     },
     "execution_count": 36,
     "metadata": {},
     "output_type": "execute_result"
    }
   ],
   "source": [
    "# get the 2nd row of each plane\n",
    "a5[:,1,:]"
   ]
  },
  {
   "cell_type": "code",
   "execution_count": 37,
   "metadata": {},
   "outputs": [
    {
     "data": {
      "text/plain": [
       "array([[[ 8,  9, 10],\n",
       "        [ 5,  6,  7]],\n",
       "\n",
       "       [[ 3,  4,  5],\n",
       "        [ 0,  1,  2]]])"
      ]
     },
     "execution_count": 37,
     "metadata": {},
     "output_type": "execute_result"
    }
   ],
   "source": [
    "# reversed array\n",
    "a5[::-1,::-1]"
   ]
  },
  {
   "cell_type": "code",
   "execution_count": 38,
   "metadata": {},
   "outputs": [
    {
     "data": {
      "text/plain": [
       "array([ 0,  2,  4,  6,  8, 10])"
      ]
     },
     "execution_count": 38,
     "metadata": {},
     "output_type": "execute_result"
    }
   ],
   "source": [
    "# condition check\n",
    "a5[a5%2==0]"
   ]
  },
  {
   "cell_type": "markdown",
   "metadata": {},
   "source": [
    "##### Copy Function\n",
    "\n",
    " Whenever we slice the data it creates a view of the array just like in SQL and the original array is not copied in the memory. So while modifying the view the original array gets updated and hence we use Copy Function. "
   ]
  },
  {
   "cell_type": "code",
   "execution_count": 39,
   "metadata": {},
   "outputs": [],
   "source": [
    "arr_1 = a5"
   ]
  },
  {
   "cell_type": "code",
   "execution_count": 40,
   "metadata": {},
   "outputs": [
    {
     "data": {
      "text/plain": [
       "array([[ 3,  4,  5],\n",
       "       [ 8,  9, 10]])"
      ]
     },
     "execution_count": 40,
     "metadata": {},
     "output_type": "execute_result"
    }
   ],
   "source": [
    "arr_2 = arr_1[:,1,:]\n",
    "arr_2"
   ]
  },
  {
   "cell_type": "code",
   "execution_count": 41,
   "metadata": {},
   "outputs": [
    {
     "data": {
      "text/plain": [
       "True"
      ]
     },
     "execution_count": 41,
     "metadata": {},
     "output_type": "execute_result"
    }
   ],
   "source": [
    "np.shares_memory(arr_1,arr_2)"
   ]
  },
  {
   "cell_type": "code",
   "execution_count": 42,
   "metadata": {},
   "outputs": [
    {
     "data": {
      "text/plain": [
       "array([[10, 10, 10],\n",
       "       [ 8,  9, 10]])"
      ]
     },
     "execution_count": 42,
     "metadata": {},
     "output_type": "execute_result"
    }
   ],
   "source": [
    "# here we can see that both shares same location and we if we update anything in arr_2, it will get updated in arr_1.\n",
    "arr_2[:1:] = 10\n",
    "arr_2"
   ]
  },
  {
   "cell_type": "code",
   "execution_count": 43,
   "metadata": {},
   "outputs": [
    {
     "data": {
      "text/plain": [
       "array([[[ 0,  1,  2],\n",
       "        [10, 10, 10]],\n",
       "\n",
       "       [[ 5,  6,  7],\n",
       "        [ 8,  9, 10]]])"
      ]
     },
     "execution_count": 43,
     "metadata": {},
     "output_type": "execute_result"
    }
   ],
   "source": [
    "arr_1"
   ]
  },
  {
   "cell_type": "code",
   "execution_count": 44,
   "metadata": {},
   "outputs": [],
   "source": [
    "# Hence to sort out this problem we use copy function that copies the data in the other array.\n",
    "arr_3 = arr_1[:,1,:].copy()  # deep copy"
   ]
  },
  {
   "cell_type": "code",
   "execution_count": 45,
   "metadata": {},
   "outputs": [
    {
     "data": {
      "text/plain": [
       "False"
      ]
     },
     "execution_count": 45,
     "metadata": {},
     "output_type": "execute_result"
    }
   ],
   "source": [
    "np.shares_memory(arr_1,arr_3)"
   ]
  },
  {
   "cell_type": "markdown",
   "metadata": {},
   "source": [
    "#### Aggregations & other Mathematic functions"
   ]
  },
  {
   "cell_type": "code",
   "execution_count": 46,
   "metadata": {},
   "outputs": [
    {
     "data": {
      "text/plain": [
       "78"
      ]
     },
     "execution_count": 46,
     "metadata": {},
     "output_type": "execute_result"
    }
   ],
   "source": [
    "# we can do aggregation on the values in array\n",
    "np.sum(a5)"
   ]
  },
  {
   "cell_type": "code",
   "execution_count": 47,
   "metadata": {},
   "outputs": [
    {
     "data": {
      "text/plain": [
       "0"
      ]
     },
     "execution_count": 47,
     "metadata": {},
     "output_type": "execute_result"
    }
   ],
   "source": [
    "np.min(a5)"
   ]
  },
  {
   "cell_type": "code",
   "execution_count": 48,
   "metadata": {},
   "outputs": [
    {
     "data": {
      "text/plain": [
       "10"
      ]
     },
     "execution_count": 48,
     "metadata": {},
     "output_type": "execute_result"
    }
   ],
   "source": [
    "np.max(a5)"
   ]
  },
  {
   "cell_type": "code",
   "execution_count": 49,
   "metadata": {},
   "outputs": [
    {
     "data": {
      "text/plain": [
       "array([[ 5,  7,  9],\n",
       "       [18, 19, 20]])"
      ]
     },
     "execution_count": 49,
     "metadata": {},
     "output_type": "execute_result"
    }
   ],
   "source": [
    "# for multidimensional aggregation we can use axis\n",
    "# axis = 0 is used to sum along the columns\n",
    "np.sum(a5,axis=0)"
   ]
  },
  {
   "cell_type": "code",
   "execution_count": 50,
   "metadata": {},
   "outputs": [
    {
     "data": {
      "text/plain": [
       "array([[10, 11, 12],\n",
       "       [13, 15, 17]])"
      ]
     },
     "execution_count": 50,
     "metadata": {},
     "output_type": "execute_result"
    }
   ],
   "source": [
    "# for row wise aggregation we can use axis = 1\n",
    "np.sum(a5,axis = 1)"
   ]
  },
  {
   "cell_type": "code",
   "execution_count": 51,
   "metadata": {},
   "outputs": [
    {
     "data": {
      "text/plain": [
       "6.5"
      ]
     },
     "execution_count": 51,
     "metadata": {},
     "output_type": "execute_result"
    }
   ],
   "source": [
    "np.mean(a5)"
   ]
  },
  {
   "cell_type": "code",
   "execution_count": 52,
   "metadata": {},
   "outputs": [
    {
     "data": {
      "text/plain": [
       "array([[[ 2,  3,  4],\n",
       "        [12, 12, 12]],\n",
       "\n",
       "       [[ 7,  8,  9],\n",
       "        [10, 11, 12]]])"
      ]
     },
     "execution_count": 52,
     "metadata": {},
     "output_type": "execute_result"
    }
   ],
   "source": [
    "a5 + 2"
   ]
  },
  {
   "cell_type": "code",
   "execution_count": 53,
   "metadata": {},
   "outputs": [
    {
     "data": {
      "text/plain": [
       "array([[[-2, -1,  0],\n",
       "        [ 8,  8,  8]],\n",
       "\n",
       "       [[ 3,  4,  5],\n",
       "        [ 6,  7,  8]]])"
      ]
     },
     "execution_count": 53,
     "metadata": {},
     "output_type": "execute_result"
    }
   ],
   "source": [
    "a5-2"
   ]
  },
  {
   "cell_type": "code",
   "execution_count": 54,
   "metadata": {},
   "outputs": [
    {
     "data": {
      "text/plain": [
       "array([[[ 0,  8, 16],\n",
       "        [80, 80, 80]],\n",
       "\n",
       "       [[40, 48, 56],\n",
       "        [64, 72, 80]]])"
      ]
     },
     "execution_count": 54,
     "metadata": {},
     "output_type": "execute_result"
    }
   ],
   "source": [
    "a5*8"
   ]
  },
  {
   "cell_type": "code",
   "execution_count": 55,
   "metadata": {},
   "outputs": [
    {
     "data": {
      "text/plain": [
       "array([[[0. , 0.5, 1. ],\n",
       "        [5. , 5. , 5. ]],\n",
       "\n",
       "       [[2.5, 3. , 3.5],\n",
       "        [4. , 4.5, 5. ]]])"
      ]
     },
     "execution_count": 55,
     "metadata": {},
     "output_type": "execute_result"
    }
   ],
   "source": [
    "a5/2"
   ]
  },
  {
   "cell_type": "markdown",
   "metadata": {},
   "source": [
    "##### Broadcasting -  Replication of values for one or more operands to be expanded along other dimension to perform mathematical operations "
   ]
  },
  {
   "cell_type": "code",
   "execution_count": 56,
   "metadata": {},
   "outputs": [
    {
     "data": {
      "text/plain": [
       "array([[[ 1,  2,  3,  4],\n",
       "        [ 5,  6,  7,  8],\n",
       "        [ 9, 10, 11, 12]],\n",
       "\n",
       "       [[13, 14, 15, 16],\n",
       "        [17, 18, 19, 20],\n",
       "        [21, 22, 23, 24]]])"
      ]
     },
     "execution_count": 56,
     "metadata": {},
     "output_type": "execute_result"
    }
   ],
   "source": [
    "a6 = np.array([[[1,2,3,4],[5,6,7,8],[9,10,11,12]],[[13,14,15,16],[17,18,19,20],[21,22,23,24]]])\n",
    "a6"
   ]
  },
  {
   "cell_type": "code",
   "execution_count": 57,
   "metadata": {},
   "outputs": [
    {
     "data": {
      "text/plain": [
       "array([[1],\n",
       "       [2],\n",
       "       [3]])"
      ]
     },
     "execution_count": 57,
     "metadata": {},
     "output_type": "execute_result"
    }
   ],
   "source": [
    "a7 = np.array([1,2,3]).reshape(3,1)\n",
    "a7"
   ]
  },
  {
   "cell_type": "code",
   "execution_count": 58,
   "metadata": {},
   "outputs": [
    {
     "data": {
      "text/plain": [
       "array([[[ 2,  3,  4,  5],\n",
       "        [ 7,  8,  9, 10],\n",
       "        [12, 13, 14, 15]],\n",
       "\n",
       "       [[14, 15, 16, 17],\n",
       "        [19, 20, 21, 22],\n",
       "        [24, 25, 26, 27]]])"
      ]
     },
     "execution_count": 58,
     "metadata": {},
     "output_type": "execute_result"
    }
   ],
   "source": [
    "# To broadcast a6 and a7 we check dimesnions. The geenral rule is to check the dimesnions backward and if we have 1\n",
    "# then that tensor is allowed\n",
    "#a6 = (2,3,4) and a7 = (3*1). if we match dimensions from backward 1 *4 is allowed and 3 =3\n",
    "a6+a7"
   ]
  },
  {
   "cell_type": "code",
   "execution_count": 61,
   "metadata": {},
   "outputs": [],
   "source": [
    "a = np.array([1,9,5])\n",
    "b = np.array([2,5,90])"
   ]
  },
  {
   "cell_type": "code",
   "execution_count": 62,
   "metadata": {},
   "outputs": [
    {
     "data": {
      "text/plain": [
       "array([ 3, 14, 95])"
      ]
     },
     "execution_count": 62,
     "metadata": {},
     "output_type": "execute_result"
    }
   ],
   "source": [
    "a+b"
   ]
  },
  {
   "cell_type": "code",
   "execution_count": 63,
   "metadata": {},
   "outputs": [
    {
     "data": {
      "text/plain": [
       "array([101, 109, 105])"
      ]
     },
     "execution_count": 63,
     "metadata": {},
     "output_type": "execute_result"
    }
   ],
   "source": [
    "# we can add numbers to arrays\n",
    "c = a+100\n",
    "c"
   ]
  },
  {
   "cell_type": "code",
   "execution_count": 64,
   "metadata": {},
   "outputs": [
    {
     "data": {
      "text/plain": [
       "array([109])"
      ]
     },
     "execution_count": 64,
     "metadata": {},
     "output_type": "execute_result"
    }
   ],
   "source": [
    "# we can check conditions on the numpy array\n",
    "c[c>105]"
   ]
  },
  {
   "cell_type": "code",
   "execution_count": 65,
   "metadata": {},
   "outputs": [],
   "source": [
    "Arr = np.random.randint(50, 500, size = (4, 6))"
   ]
  },
  {
   "cell_type": "code",
   "execution_count": 66,
   "metadata": {},
   "outputs": [
    {
     "data": {
      "text/plain": [
       "array([[404,  56, 176, 346, 487, 342],\n",
       "       [ 94, 412, 413, 381, 323, 145],\n",
       "       [261, 413, 267, 468, 115, 494],\n",
       "       [446, 387, 217, 355, 122,  56]])"
      ]
     },
     "execution_count": 66,
     "metadata": {},
     "output_type": "execute_result"
    }
   ],
   "source": [
    "Arr"
   ]
  },
  {
   "cell_type": "code",
   "execution_count": 67,
   "metadata": {},
   "outputs": [
    {
     "data": {
      "text/plain": [
       "array([381, 387, 355])"
      ]
     },
     "execution_count": 67,
     "metadata": {},
     "output_type": "execute_result"
    }
   ],
   "source": [
    "# logical Condition checking\n",
    "Arr[(Arr>=350) & (Arr<=400)]"
   ]
  },
  {
   "cell_type": "markdown",
   "metadata": {},
   "source": [
    "#### Functions related to shape "
   ]
  },
  {
   "cell_type": "code",
   "execution_count": 68,
   "metadata": {},
   "outputs": [],
   "source": [
    "d = np.array([1,3,5,12,6,7,8,9,6,4,4,14])"
   ]
  },
  {
   "cell_type": "code",
   "execution_count": 69,
   "metadata": {},
   "outputs": [
    {
     "data": {
      "text/plain": [
       "array([[ 1,  3,  5, 12,  6,  7],\n",
       "       [ 8,  9,  6,  4,  4, 14]])"
      ]
     },
     "execution_count": 69,
     "metadata": {},
     "output_type": "execute_result"
    }
   ],
   "source": [
    "# o we can reshape the elements as per no . of elements like 12 = 2*6,3*4,4*3\n",
    "d.reshape(2,6)"
   ]
  },
  {
   "cell_type": "code",
   "execution_count": 70,
   "metadata": {},
   "outputs": [
    {
     "data": {
      "text/plain": [
       "array([[ 1,  3,  5, 12],\n",
       "       [ 6,  7,  8,  9],\n",
       "       [ 6,  4,  4, 14]])"
      ]
     },
     "execution_count": 70,
     "metadata": {},
     "output_type": "execute_result"
    }
   ],
   "source": [
    "d.reshape(3,4)"
   ]
  },
  {
   "cell_type": "code",
   "execution_count": 71,
   "metadata": {},
   "outputs": [
    {
     "data": {
      "text/plain": [
       "array([[ 1,  6,  6],\n",
       "       [ 3,  7,  4],\n",
       "       [ 5,  8,  4],\n",
       "       [12,  9, 14]])"
      ]
     },
     "execution_count": 71,
     "metadata": {},
     "output_type": "execute_result"
    }
   ],
   "source": [
    "# we cn transpose them and change there dimensions rows = columns and vice-versa\n",
    "d.reshape(3,4).T"
   ]
  },
  {
   "cell_type": "markdown",
   "metadata": {},
   "source": [
    "#### Combining Data "
   ]
  },
  {
   "cell_type": "code",
   "execution_count": 72,
   "metadata": {},
   "outputs": [],
   "source": [
    "J = np.random.randint( 10, size = (6,9))\n",
    "K = np.random.randint( 100, size = (6,2))\n",
    "L = np.random.randint( 800, size = (4,9))"
   ]
  },
  {
   "cell_type": "code",
   "execution_count": 73,
   "metadata": {},
   "outputs": [
    {
     "data": {
      "text/plain": [
       "array([[0, 2, 8, 8, 0, 9, 0, 7, 2],\n",
       "       [0, 0, 8, 2, 7, 4, 5, 8, 6],\n",
       "       [7, 2, 5, 1, 8, 7, 2, 1, 1],\n",
       "       [1, 1, 9, 9, 9, 3, 9, 3, 0],\n",
       "       [6, 4, 1, 9, 7, 4, 7, 7, 4],\n",
       "       [9, 4, 5, 9, 3, 5, 2, 7, 1]])"
      ]
     },
     "execution_count": 73,
     "metadata": {},
     "output_type": "execute_result"
    }
   ],
   "source": [
    "J"
   ]
  },
  {
   "cell_type": "code",
   "execution_count": 74,
   "metadata": {},
   "outputs": [
    {
     "data": {
      "text/plain": [
       "array([[52, 13],\n",
       "       [22, 50],\n",
       "       [27, 98],\n",
       "       [54,  2],\n",
       "       [88, 62],\n",
       "       [52, 93]])"
      ]
     },
     "execution_count": 74,
     "metadata": {},
     "output_type": "execute_result"
    }
   ],
   "source": [
    "K"
   ]
  },
  {
   "cell_type": "code",
   "execution_count": 75,
   "metadata": {},
   "outputs": [
    {
     "data": {
      "text/plain": [
       "array([[ 24, 465,  92, 672, 167, 330, 260, 157, 558],\n",
       "       [214, 213, 758, 587, 377, 249, 268, 517, 660],\n",
       "       [ 98, 176, 349,  14, 624, 658,  23, 535, 515],\n",
       "       [654, 530, 799, 492, 292, 313, 432, 760, 342]])"
      ]
     },
     "execution_count": 75,
     "metadata": {},
     "output_type": "execute_result"
    }
   ],
   "source": [
    "L"
   ]
  },
  {
   "cell_type": "code",
   "execution_count": 76,
   "metadata": {},
   "outputs": [
    {
     "data": {
      "text/plain": [
       "array([[ 0,  2,  8,  8,  0,  9,  0,  7,  2, 52, 13],\n",
       "       [ 0,  0,  8,  2,  7,  4,  5,  8,  6, 22, 50],\n",
       "       [ 7,  2,  5,  1,  8,  7,  2,  1,  1, 27, 98],\n",
       "       [ 1,  1,  9,  9,  9,  3,  9,  3,  0, 54,  2],\n",
       "       [ 6,  4,  1,  9,  7,  4,  7,  7,  4, 88, 62],\n",
       "       [ 9,  4,  5,  9,  3,  5,  2,  7,  1, 52, 93]])"
      ]
     },
     "execution_count": 76,
     "metadata": {},
     "output_type": "execute_result"
    }
   ],
   "source": [
    "# Horizontal Combining for that the horizontal dimesnions should be same\n",
    "np.hstack([J,K])"
   ]
  },
  {
   "cell_type": "code",
   "execution_count": 77,
   "metadata": {},
   "outputs": [
    {
     "data": {
      "text/plain": [
       "array([[  0,   2,   8,   8,   0,   9,   0,   7,   2],\n",
       "       [  0,   0,   8,   2,   7,   4,   5,   8,   6],\n",
       "       [  7,   2,   5,   1,   8,   7,   2,   1,   1],\n",
       "       [  1,   1,   9,   9,   9,   3,   9,   3,   0],\n",
       "       [  6,   4,   1,   9,   7,   4,   7,   7,   4],\n",
       "       [  9,   4,   5,   9,   3,   5,   2,   7,   1],\n",
       "       [ 24, 465,  92, 672, 167, 330, 260, 157, 558],\n",
       "       [214, 213, 758, 587, 377, 249, 268, 517, 660],\n",
       "       [ 98, 176, 349,  14, 624, 658,  23, 535, 515],\n",
       "       [654, 530, 799, 492, 292, 313, 432, 760, 342]])"
      ]
     },
     "execution_count": 77,
     "metadata": {},
     "output_type": "execute_result"
    }
   ],
   "source": [
    "# Vertical appending for that the vertical dimesnions should be same\n",
    "np.vstack([J,L])"
   ]
  }
 ],
 "metadata": {
  "kernelspec": {
   "display_name": "Python 3 (ipykernel)",
   "language": "python",
   "name": "python3"
  },
  "language_info": {
   "codemirror_mode": {
    "name": "ipython",
    "version": 3
   },
   "file_extension": ".py",
   "mimetype": "text/x-python",
   "name": "python",
   "nbconvert_exporter": "python",
   "pygments_lexer": "ipython3",
   "version": "3.9.7"
  }
 },
 "nbformat": 4,
 "nbformat_minor": 4
}
